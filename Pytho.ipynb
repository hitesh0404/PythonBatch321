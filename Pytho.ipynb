{
 "cells": [
  {
   "cell_type": "markdown",
   "metadata": {},
   "source": [
    "<h1>hello</h1>\n",
    "<img src = \"data:image/jpeg;base64,/9j/4AAQSkZJRgABAQAAAQABAAD/2wCEAAkGBwgHBgkIBwgKCgkLDRYPDQwMDRsUFRAWIB0iIiAdHx8kKDQsJCYxJx8fLT0tMTU3Ojo6Iys/RD84QzQ5OjcBCgoKDQwNGg8PGjclHyU3Nzc3Nzc3Nzc3Nzc3Nzc3Nzc3Nzc3Nzc3Nzc3Nzc3Nzc3Nzc3Nzc3Nzc3Nzc3Nzc3N//AABEIAG4AbgMBIgACEQEDEQH/xAAbAAACAwEBAQAAAAAAAAAAAAADBAECBQYAB//EADoQAAEDAgUCAwUGAwkAAAAAAAEAAgMEEQUGEiFhMUETUXEUIoHB0Qc1YpGhsdLi8BUyM0Jyc4KSk//EABkBAAMBAQEAAAAAAAAAAAAAAAABAgMEBf/EACERAAMAAgICAgMAAAAAAAAAAAABEQIDEiITIQRhIzFB/9oADAMBAAIRAxEAPwD5Ba69buiad1Ok23W8JoK3krAbHZEDFIaiCoKymwRNCnTwnBUFZe0o2he0cIgUDpUWR9HC9o36IgUCBuD5KNKPosduo7qC38kQKAsvaUbQo0+YulB0IG7KdKMIzdXEfCuEUAGeYVgxHEauI0+IqLBinQmxFwpESriFE/DKnwynfCXvCRxFRLw1BYnvBUeFwjiOiJYvaPROmLhUMXCUCimhVLE4Y7DZVLDyUoFCiNEbHcdE02HhGbBwrSJom2FEbDwnWU/COymPkrWImzPbCriDhajaXhXfAyKMvlIawdSU/SF+zK9n4XvZ1d+IW/w4GkAH3i/a4+CnD8QbVVAilibGC24dq2/VZLdrblNHqzSoI06r4B8lueyXFwLg91R1JwtYjMxTCfJUdDsth1NbshOpuEmh0yDEqGFarqfhDMHCmDGmU/CYjpuE/HT8JqKmRSTPjpOmyajpOFpRUvTZORUvCOQQy46PhJ42xkVNo06pTYgX6cldZFScLmM2UxixKHTqcZY9AY0jYX3J26dO/ZY79sw9G2jBZZ+zkawsL9Lg4AgkaxsDbb9v1QXx00sPiTD3rXBJJ2PfyH59lrye0QsfJXw6KSJ4dNM6Kwsdh3/NXpsvzS0rtET3N0DS7SQJADcb+RA/VcWFOvY0auXII5MNayMtcY7AlvQ7XB/JaD6K3ZFyRh3hYXKfCfHqk6OBFtug4W6+k4Xfhn1Rw5rszln0fCA+k4XUS0luyUkpQr5kw5t9JwgOpd+i6J9MgPpt0cgOGjzxO3Y4fC70kI+Sciz8wEa8MI9J/wCVCiyRAf7+ISfCMfVOw5EoCffrqo+gaPkuObjqukLH9odK218NmtxIE9T/AGjYbez6CqHo5p+aDDkDCCRqqa0/82fwrQp8gYCCLmqd6yj6Im4LpLD7SMJb0oqw+oYPmvP+0bCJN34VO82tdxZcBNjIGXX9Y6kekxQqjJGV6Z4jmqaqN+kvDPEFyP8Aqoy8v9Kx8LfpMTxTP2E1+F1NCcLn0ywuibrLC0Ejvv6J2lz7l80sEMtJWMbE1ot4TSBYcOSuN5Tyxh2CVdeKmoHhwucxzpgRqt7oNh3JC0KfKWUxS0874JZWyNabmok6kdwHJfl+hvw/YSiz1lNgcyGqkiDnaiHU8g3PwTjs55Ztf+16f4h30UYdlrKk8bpKbBqYsa4t1Sxk3t5aibhPvwPBA3SMKobDoPZ27fotVzMX4/sy35yywR97QH4O+iSnzjlztiLD/pjcfktmTAsDIN8Kof8Awb9EhU5ewB5ucHoSf9hqruLoY82c8vt29refSF5+SVfnXAb7TTn0gctSXLWAE/dVKPRlkrJlfACfu6Mej3D9iibB3WKxVKaiquVzrKjlMR1Nu66oYHTRVfTdNxVnK5aOrt3TUdZyjiI6uKsXIZ2nkqcQjAZZkTA7xG9bp6Ot5SuMz00tI5079L/8hBAJPx691j8jVyw9G/x9nHP2czIwQP1VU8b4ZJAZIS4kd7eYUw41NHDI5ryz3Nvw37hIYn4AnLvccwiw3uEJ80EVrtLu/S/l0t/W64sEzr2NU+k5BrmnCpmguu2Xcm/vbDddE+s5XF5cqDFhjdYc2Rxu67beluLWWg+t/EvQw19UcGeXZm3LV8pWSrHmsZ9b+JAfWcq+BNNd9UEB1Tv1WS6r5QXVXKOIzn2zIrZlmteiCQhJMDTZOfNGZUEd1ktlKuJT2VphDaZVHzRDUhzS124KxBM5WE7k6hQNNhkMpJbM9tydi0Ebq+H0MVDOJhKXuDbAWsEATOXvFKzWrWnYW9mbUpse2HzVHVR81leKVBkK0pENM1J80N1Ss4yFQZOEqMeNShmoSevZV1pAf//Z\">"
   ]
  },
  {
   "cell_type": "code",
   "execution_count": 14,
   "metadata": {},
   "outputs": [
    {
     "name": "stdout",
     "output_type": "stream",
     "text": [
      "hello world hello world hello world \n"
     ]
    }
   ],
   "source": [
    "print(\"hello world \"*3)"
   ]
  },
  {
   "cell_type": "markdown",
   "metadata": {},
   "source": [
    "# variable\n",
    "<pre>\n",
    "Variable is a container \n",
    "name should start with _ or alpha\n",
    "with the help of type funtion we can get the type of value"
   ]
  },
  {
   "cell_type": "code",
   "execution_count": 35,
   "metadata": {},
   "outputs": [
    {
     "name": "stdout",
     "output_type": "stream",
     "text": [
      "12.32\n",
      "12 12.32 12\n",
      "<class 'str'> <class 'int'> <class 'float'>\n"
     ]
    }
   ],
   "source": [
    "a_2 = '12.32'\n",
    "b = 12\n",
    "c = 12.1\n",
    "\n",
    "print(a_2)\n",
    "print(b,a_2,b)\n",
    "print(type(a_2),type(b),type(c))"
   ]
  },
  {
   "cell_type": "markdown",
   "metadata": {},
   "source": [
    "# = sign \n",
    "* = is used to assign value from right to the left\n",
    "* also called as assignment symbol"
   ]
  },
  {
   "cell_type": "markdown",
   "metadata": {},
   "source": [
    "\n",
    "# Swap the value of two variables"
   ]
  },
  {
   "cell_type": "code",
   "execution_count": 42,
   "metadata": {},
   "outputs": [
    {
     "name": "stdout",
     "output_type": "stream",
     "text": [
      "10 20\n",
      "20 10\n"
     ]
    }
   ],
   "source": [
    "a=10\n",
    "b=20\n",
    "print(a,b)\n",
    "c=a\n",
    "a=b\n",
    "b=c\n",
    "print(a,b)"
   ]
  },
  {
   "cell_type": "code",
   "execution_count": 43,
   "metadata": {},
   "outputs": [
    {
     "name": "stdout",
     "output_type": "stream",
     "text": [
      "10 20\n",
      "20 10\n"
     ]
    }
   ],
   "source": [
    "a=10\n",
    "b=20\n",
    "print(a,b)\n",
    "a,b = b,a\n",
    "print(a,b)"
   ]
  },
  {
   "cell_type": "code",
   "execution_count": 46,
   "metadata": {},
   "outputs": [
    {
     "name": "stdout",
     "output_type": "stream",
     "text": [
      "10.34 20.65\n",
      "20.65 10.34\n"
     ]
    }
   ],
   "source": [
    "a=10.34\n",
    "b=20.65\n",
    "print(a,b)\n",
    "a = a+b # 10+20 = 30\n",
    "b = a-b # 30-20 = 10\n",
    "a = a-b # 30-10 = 20\n",
    "print(a,b)"
   ]
  },
  {
   "cell_type": "markdown",
   "metadata": {},
   "source": [
    "# Operators"
   ]
  },
  {
   "cell_type": "markdown",
   "metadata": {},
   "source": [
    "## Assignment\n",
    "### =\n",
    "## Arth\n",
    "### + - * / %\n",
    "With Str datatype we can two arthm operator +(concat) *(Repeat)"
   ]
  },
  {
   "cell_type": "code",
   "execution_count": 58,
   "metadata": {},
   "outputs": [
    {
     "data": {
      "text/plain": [
       "'abc hello abc hello abc hello '"
      ]
     },
     "execution_count": 58,
     "metadata": {},
     "output_type": "execute_result"
    }
   ],
   "source": [
    "('abc '+'hello ')*3"
   ]
  },
  {
   "cell_type": "markdown",
   "metadata": {},
   "source": [
    "### Comparison  operators \n",
    "<pre>\n",
    "== is equals\n",
    "!= not equals\n",
    "> greater then\n",
    "< less then\n",
    ">= greater then and equals \n",
    "<=  less then and equals"
   ]
  },
  {
   "cell_type": "code",
   "execution_count": 62,
   "metadata": {},
   "outputs": [
    {
     "data": {
      "text/plain": [
       "False"
      ]
     },
     "execution_count": 62,
     "metadata": {},
     "output_type": "execute_result"
    }
   ],
   "source": [
    "10!=10"
   ]
  },
  {
   "cell_type": "code",
   "execution_count": 61,
   "metadata": {},
   "outputs": [
    {
     "data": {
      "text/plain": [
       "False"
      ]
     },
     "execution_count": 61,
     "metadata": {},
     "output_type": "execute_result"
    }
   ],
   "source": [
    "10==20"
   ]
  },
  {
   "cell_type": "markdown",
   "metadata": {},
   "source": [
    "# Logical Operators\n",
    "### and \n",
    "### or\n",
    "### not\n",
    "<pre>\n",
    "false values   False None 0 '' {}[] tuple()(empty non premitive datatype)\n",
    "truth values   12 ' ' 'abc' "
   ]
  },
  {
   "cell_type": "markdown",
   "metadata": {},
   "source": [
    "<pre>\n",
    "and,or,not these are logical operator\n",
    "&,|,! these are bitwise operator"
   ]
  },
  {
   "cell_type": "code",
   "execution_count": 53,
   "metadata": {},
   "outputs": [
    {
     "name": "stdout",
     "output_type": "stream",
     "text": [
      "hello world\n",
      "new text bye bye \n",
      "hello here it's \"HP\"\n",
      "      \n",
      "      here are some more lines\n",
      "      \n",
      "       \n",
      "hello here it's \"HP\" \n"
     ]
    }
   ],
   "source": [
    "print(\"hello world\",\"new text \",sep='\\n',end=\"bye bye \\n\")\n",
    "print('''\n",
    "      hello here it's \"HP\"\n",
    "      \n",
    "      here are some more lines\n",
    "      \n",
    "       ''')\n",
    "print(\"\"\"\n",
    "      \n",
    "      \n",
    "      hello here it's \"HP\" \n",
    "      \n",
    "      \n",
    "      \"\"\")"
   ]
  },
  {
   "cell_type": "markdown",
   "metadata": {},
   "source": [
    "# Comments\n",
    "\n",
    "* python support only single line comment with # symbol\n",
    "* But we can achive multiline comment in python \n",
    "with the help of Doc String\n",
    "* every String in python is ignored by the interpreter which is \n",
    "not assigned to any variable or not utilised by the any function as arrgument\n",
    "\n"
   ]
  },
  {
   "cell_type": "code",
   "execution_count": 1,
   "metadata": {},
   "outputs": [
    {
     "name": "stdout",
     "output_type": "stream",
     "text": [
      "hello\n",
      "\n"
     ]
    }
   ],
   "source": [
    "print(\"hello\")  \n",
    "\"helo its single line\"\n",
    "\"\"\" \n",
    "hello this is comment\n",
    "#here one more line\n",
    "#here one more line\n",
    "#here one more line\n",
    "#here one more line\n",
    "#here one more line \n",
    "# \"\"\"\n",
    "print()"
   ]
  },
  {
   "cell_type": "code",
   "execution_count": 3,
   "metadata": {},
   "outputs": [
    {
     "data": {
      "text/plain": [
       "NoneType"
      ]
     },
     "execution_count": 3,
     "metadata": {},
     "output_type": "execute_result"
    }
   ],
   "source": [
    "type(None)"
   ]
  },
  {
   "cell_type": "markdown",
   "metadata": {},
   "source": [
    "# Data Types\n",
    "* Premitive DataTypes\n",
    "  <pre>\n",
    "  these datatypes holds single value \n",
    "  int\n",
    "  float\n",
    "  bool\n",
    "  None\n",
    "  complex\n",
    "* Non-Premitive DataTypes\n",
    "  <pre>\n",
    "  these datatypes can hold multiple value(more then one)\n",
    "    str\n",
    "    list\n",
    "    tuple\n",
    "    dictionary\n",
    "    set\n",
    "    Object\n",
    "     \n"
   ]
  },
  {
   "cell_type": "markdown",
   "metadata": {},
   "source": [
    "## Type Casting\n",
    "* converting or transforming one datatype to another is call Type casting or Type conversion\n",
    "* example:\n",
    "<pre>\n",
    "    int(\"123\")\n",
    "    float(\"123.2\")\n",
    "    str(12)\n",
    "    bool(12)\n",
    "    "
   ]
  },
  {
   "cell_type": "code",
   "execution_count": 1,
   "metadata": {},
   "outputs": [
    {
     "data": {
      "text/plain": [
       "46"
      ]
     },
     "execution_count": 1,
     "metadata": {},
     "output_type": "execute_result"
    }
   ],
   "source": [
    "int('12' )+ int( '34')"
   ]
  },
  {
   "cell_type": "markdown",
   "metadata": {},
   "source": [
    "# String\n",
    "## String Index\n",
    "<pre>\n",
    "H e l l o   w o r l d\n",
    "0 1 2 3 4 5 6 7 8 9 10    <- index position are valid for sequence datatype \n",
    "                                eg.            String,List,Tuple\n",
    "1 2 3 4 5 6 7 8 9 10 11   <- length is 11"
   ]
  },
  {
   "cell_type": "markdown",
   "metadata": {},
   "source": []
  },
  {
   "cell_type": "code",
   "execution_count": null,
   "metadata": {},
   "outputs": [
    {
     "name": "stdout",
     "output_type": "stream",
     "text": [
      "w\n",
      "d\n"
     ]
    }
   ],
   "source": [
    "print('hello world'[6])\n",
    "a = \"hello world\"\n",
    "print(a[10])"
   ]
  },
  {
   "cell_type": "markdown",
   "metadata": {},
   "source": [
    "# Slicing \n",
    "<pre>\n",
    "[ Start  :    Stop     :   Step ]\n",
    "\n",
    "\n",
    "H e l l o   w o r l d\n",
    "0 1 2 3 4 5 6 7 8 9 10\n",
    "\n",
    "a[6:11:2]\n"
   ]
  },
  {
   "cell_type": "code",
   "execution_count": 13,
   "metadata": {},
   "outputs": [
    {
     "data": {
      "text/plain": [
       "'hello World'"
      ]
     },
     "execution_count": 13,
     "metadata": {},
     "output_type": "execute_result"
    }
   ],
   "source": [
    "\"hello \"  \"World\""
   ]
  },
  {
   "cell_type": "code",
   "execution_count": 48,
   "metadata": {},
   "outputs": [
    {
     "data": {
      "text/plain": [
       "'stu'"
      ]
     },
     "execution_count": 48,
     "metadata": {},
     "output_type": "execute_result"
    }
   ],
   "source": [
    "a='0123456789abcdefghijklmnopqrstuvwxyz'\n",
    "                        #      87654321\n",
    "# a[-1:-11:-1]\n",
    "# a[::1]   #[0:10:1]\n",
    "# a[::-1] #[-1:-11:-1]\n",
    "a[-8:-5:1]"
   ]
  },
  {
   "cell_type": "code",
   "execution_count": null,
   "metadata": {},
   "outputs": [
    {
     "name": "stdout",
     "output_type": "stream",
     "text": [
      "02468\n",
      "13579\n",
      "86420\n",
      "97531\n",
      "86420\n",
      "97531\n"
     ]
    }
   ],
   "source": [
    "a= '0123456789'\n",
    "print(a[::2])\n",
    "print(a[1::2])\n",
    "print(a[::2][::-1])\n",
    "print(a[1::2][::-1])\n",
    "print(a[-2:-11:-2])\n",
    "print(a[-1:-11:-2])"
   ]
  },
  {
   "cell_type": "markdown",
   "metadata": {},
   "source": [
    "# String Methods"
   ]
  },
  {
   "cell_type": "markdown",
   "metadata": {},
   "source": [
    "<pre>\n",
    "split"
   ]
  },
  {
   "cell_type": "code",
   "execution_count": null,
   "metadata": {},
   "outputs": [
    {
     "name": "stdout",
     "output_type": "stream",
     "text": [
      "7.0 12.0 9.0 13.0\n"
     ]
    }
   ],
   "source": [
    "a,b,c,d = map(float,input(\"enter 4 number with space\").split())\n",
    "'7 12 9 13'\n",
    "#['7','12','9','13']\n",
    "#float([0])  float('7') -> 7.0 \n",
    "#float([1])  float('12') -> 12.0 \n",
    "#float([2])  float('9') -> 9.0 \n",
    "#float([3])  float('13') -> 13.0 \n",
    "print(a,b,c,d)"
   ]
  },
  {
   "cell_type": "code",
   "execution_count": null,
   "metadata": {},
   "outputs": [
    {
     "name": "stdout",
     "output_type": "stream",
     "text": [
      "72\n",
      "104\n",
      "A\n",
      "a\n"
     ]
    }
   ],
   "source": [
    "print(ord(\"H\"))#char->number\n",
    "print(ord(\"h\"))\n",
    "print(chr(65))#number->char\n",
    "print(chr(97))\n"
   ]
  },
  {
   "cell_type": "code",
   "execution_count": 37,
   "metadata": {},
   "outputs": [
    {
     "name": "stdout",
     "output_type": "stream",
     "text": [
      "---------------------------Hello----------------------------\n",
      "-1\n",
      "0\n",
      "1--2--3\n",
      "4\n"
     ]
    }
   ],
   "source": [
    "\"python\".replace('p','j')\n",
    "print(\"Hello\".center(60,'-'))\n",
    "print(\"hello\".find('w'))\n",
    "print(\"hello\".index(\"h\"))\n",
    "print(\"--\".join(['1','2','3']))\n",
    "print(\" hellohello\".count('l'))\n"
   ]
  },
  {
   "cell_type": "markdown",
   "metadata": {},
   "source": [
    "#"
   ]
  },
  {
   "cell_type": "markdown",
   "metadata": {},
   "source": [
    "# Formating String\n",
    "* .format()\n",
    "* f''\n"
   ]
  },
  {
   "cell_type": "code",
   "execution_count": 51,
   "metadata": {},
   "outputs": [
    {
     "name": "stdout",
     "output_type": "stream",
     "text": [
      "1010 200\n",
      "hello a =  1010 and the b =  200 end of string\n",
      "hello a = 1010 and the b = 200 end of string\n",
      "hello a = 1010 and the b = 200 end of string\n"
     ]
    }
   ],
   "source": [
    "a=1010\n",
    "b=200\n",
    "print(a,b)\n",
    "print(\"hello a = \",a,'and the b = ',b,'end of string')\n",
    "print(f'hello a = {a} and the b = {b} end of string')\n",
    "print('hello a = {} and the b = {} end of string'.format(a,b))\n"
   ]
  },
  {
   "cell_type": "markdown",
   "metadata": {},
   "source": [
    "### raw String"
   ]
  },
  {
   "cell_type": "code",
   "execution_count": 71,
   "metadata": {},
   "outputs": [
    {
     "name": "stdout",
     "output_type": "stream",
     "text": [
      "C:\\Users\\admin\\Java\\Java_Project\\Java_Project\\src\\ecom\n",
      "C:\\Users\\admin\\Java\\Java_Project\\Java_Project\\src\\ecom\n"
     ]
    }
   ],
   "source": [
    "print(\"C:\\\\Users\\\\admin\\\\Java\\\\Java_Project\\\\Java_Project\\\\src\\\\ecom\")\n",
    "print(r'C:\\Users\\admin\\Java\\Java_Project\\Java_Project\\src\\ecom')\n",
    "# print(\"c:\\ns\")"
   ]
  },
  {
   "cell_type": "markdown",
   "metadata": {},
   "source": [
    "##### Complex"
   ]
  },
  {
   "cell_type": "code",
   "execution_count": 77,
   "metadata": {},
   "outputs": [
    {
     "name": "stdout",
     "output_type": "stream",
     "text": [
      "(25+3j)\n",
      "(123+5j)\n"
     ]
    }
   ],
   "source": [
    "print(12+1j + 13+2j)\n",
    "print(complex(123,5))\n"
   ]
  },
  {
   "cell_type": "markdown",
   "metadata": {},
   "source": [
    "##### float"
   ]
  },
  {
   "cell_type": "code",
   "execution_count": 91,
   "metadata": {},
   "outputs": [
    {
     "data": {
      "text/plain": [
       "0.30000000000000004"
      ]
     },
     "execution_count": 91,
     "metadata": {},
     "output_type": "execute_result"
    }
   ],
   "source": [
    "0.1 + 0.2"
   ]
  },
  {
   "cell_type": "code",
   "execution_count": 103,
   "metadata": {},
   "outputs": [
    {
     "name": "stdout",
     "output_type": "stream",
     "text": [
      "0.3000\n",
      "1010 0.3000\n"
     ]
    }
   ],
   "source": [
    "print('{:.4f}'.format(0.1 + 0.2))\n",
    "b=(0.1 + 0.2)\n",
    "print(\"%d %.4f\"%(a,b))"
   ]
  },
  {
   "cell_type": "markdown",
   "metadata": {},
   "source": [
    "# Decision Making Statements\n",
    "# Condition Statement\n",
    "# If - Else Statement"
   ]
  },
  {
   "cell_type": "code",
   "execution_count": 1,
   "metadata": {},
   "outputs": [
    {
     "name": "stdout",
     "output_type": "stream",
     "text": [
      "hello greet msg\n",
      "get back to work \n"
     ]
    }
   ],
   "source": [
    "num = int(input(\"enter 1 for msg\"))\n",
    "if num<1: # 5 False\n",
    "    print(\"hello greet msg\")\n",
    "else:\n",
    "    print(\"go back\")\n",
    "if num>1:\n",
    "    print(\"good morning\")\n",
    "else:\n",
    "    print(\"get back to work \")"
   ]
  },
  {
   "cell_type": "code",
   "execution_count": null,
   "metadata": {},
   "outputs": [
    {
     "name": "stdout",
     "output_type": "stream",
     "text": [
      "12 is even\n"
     ]
    }
   ],
   "source": [
    "num=int(input(\"enter num to check odd and even\"))\n",
    "if num%2==1:   #  1  0        12%2 = 0 -> even      7%2 = 1->odd\n",
    "    print(f\"{num} is odd\")\n",
    "else:\n",
    "    print(f\"{num} is even\")"
   ]
  },
  {
   "cell_type": "code",
   "execution_count": 10,
   "metadata": {},
   "outputs": [
    {
     "name": "stdout",
     "output_type": "stream",
     "text": [
      "30 is greater then 20\n"
     ]
    }
   ],
   "source": [
    "a=30\n",
    "b=20\n",
    "if a>b:\n",
    "    print(f'{a} is greater then {b}')\n",
    "else:\n",
    "    print(f'{b} is greater then {a}')\n"
   ]
  },
  {
   "cell_type": "code",
   "execution_count": null,
   "metadata": {},
   "outputs": [
    {
     "name": "stdout",
     "output_type": "stream",
     "text": [
      "20 is max in given (100, 20, 30)\n",
      "20 is min in given (100, 20, 30)\n",
      "100 is max in given (100, 20, 30)\n",
      "20 is min in given (100, 20, 30)\n"
     ]
    }
   ],
   "source": [
    "a = 100\n",
    "b = 20\n",
    "c = 30\n",
    "if a>b and a>c:\n",
    "    print(f'{a} is max in given {a,b,c}')\n",
    "elif b>c:\n",
    "    print(f'{c} is max in given {a,b,c}')\n",
    "else:\n",
    "    print(f'{b} is max in given {a,b,c}')\n",
    "\n",
    "if a<b and a<c:\n",
    "    print(f'{a} is min in given {a,b,c}')\n",
    "elif b<c:\n",
    "    print(f'{b} is min in given {a,b,c}')\n",
    "else:\n",
    "    print(f'{c} is min in given {a,b,c}')\n",
    "\n",
    "\n",
    "if a>b and a>c:\n",
    "    print(f'{a} is max in given {a,b,c}')\n",
    "    if b<c:\n",
    "        print(f'{b} is min in given {a,b,c}')\n",
    "    else:\n",
    "        print(f'{c} is min in given {a,b,c}')\n",
    "elif b>c:\n",
    "    print(f'{b} is max in given {a,b,c}')\n",
    "    if c<a:\n",
    "        print(f'{c} is min in given {a,b,c}')\n",
    "    else:\n",
    "        print(f'{a} is min in given {a,b,c}')\n",
    "else:\n",
    "    print(f'{c} is max in given {a,b,c}')\n",
    "    if b<a:\n",
    "        print(f'{b} is min in given {a,b,c}')\n",
    "    else:\n",
    "        print(f'{a} is min in given {a,b,c}')\n",
    "\n"
   ]
  },
  {
   "cell_type": "code",
   "execution_count": null,
   "metadata": {},
   "outputs": [],
   "source": [
    "#Leap year\n",
    "#1800->"
   ]
  },
  {
   "cell_type": "code",
   "execution_count": null,
   "metadata": {},
   "outputs": [
    {
     "name": "stdout",
     "output_type": "stream",
     "text": [
      "1600 is leap year\n"
     ]
    }
   ],
   "source": [
    "#divisible by 4 then should not be divi by 100           4 and !100\n",
    "#divisible by 400                                        400\n",
    "year = 1600\n",
    "if (year%4==0 and year%100!=0) or (year%400==0):\n",
    "    print(f\"{year} is leap year\")\n",
    "else:\n",
    "    print(f\"{year} is not a leap year\")\n"
   ]
  },
  {
   "cell_type": "code",
   "execution_count": null,
   "metadata": {},
   "outputs": [],
   "source": []
  },
  {
   "cell_type": "code",
   "execution_count": 10,
   "metadata": {},
   "outputs": [
    {
     "name": "stdout",
     "output_type": "stream",
     "text": [
      "46\n"
     ]
    }
   ],
   "source": [
    "a = int(input(\"enter the number for a\"))\n",
    "b = int(input(\"enter the number for b\"))\n",
    "print(a+b)"
   ]
  },
  {
   "cell_type": "code",
   "execution_count": null,
   "metadata": {},
   "outputs": [
    {
     "name": "stdout",
     "output_type": "stream",
     "text": [
      "2 is of type integer\n"
     ]
    }
   ],
   "source": [
    "a='a'\n",
    "if type(a) == int :\n",
    "    print(f\"{a} is of type integer\")\n",
    "elif type(a) == str :\n",
    "    print(f\"{a} is of type String\")\n",
    "    print(f\"{a} is of type String\")\n",
    "    print(f\"{a} is of type String\")\n",
    "    print(f\"{a} is of type String\")\n",
    "elif type(a) == float :\n",
    "    print(f\"{a} is of type float\")\n",
    "else:\n",
    "    print(\"a is not int or float or a string\")"
   ]
  },
  {
   "cell_type": "code",
   "execution_count": null,
   "metadata": {},
   "outputs": [],
   "source": []
  },
  {
   "cell_type": "code",
   "execution_count": null,
   "metadata": {},
   "outputs": [
    {
     "name": "stdout",
     "output_type": "stream",
     "text": [
      "negative number -10\n",
      "hello\n"
     ]
    }
   ],
   "source": [
    "num = -10\n",
    "if num>0:\n",
    "    print(\"positive number\",num)\n",
    "else:\n",
    "    print(\"negative number\",num)\n",
    "print(\"hello\")"
   ]
  },
  {
   "cell_type": "markdown",
   "metadata": {},
   "source": [
    "# LOOP / iterative Statements\n",
    "### for and  while\n",
    "* intialize \n",
    "* Condition\n",
    "* increment/ decrement (state change)"
   ]
  },
  {
   "cell_type": "code",
   "execution_count": 9,
   "metadata": {},
   "outputs": [
    {
     "name": "stdout",
     "output_type": "stream",
     "text": [
      "5\n",
      "4\n",
      "3\n",
      "2\n",
      "1\n",
      "end\n"
     ]
    }
   ],
   "source": [
    "i=5   # 5\n",
    "while(i>0):      #\n",
    "    print(i)     #  5 4 3 2 1\n",
    "    i= i-1        # 4 3 2 1 0\n",
    "else:\n",
    "    print(\"end\")"
   ]
  },
  {
   "cell_type": "code",
   "execution_count": 4,
   "metadata": {},
   "outputs": [
    {
     "name": "stdout",
     "output_type": "stream",
     "text": [
      "11\n",
      "12\n",
      "13\n",
      "14\n",
      "15\n"
     ]
    }
   ],
   "source": [
    "i=10\n",
    "i = i+1\n",
    "print(i)\n",
    "i = i+1\n",
    "print(i)\n",
    "i = i+1\n",
    "print(i)\n",
    "i = i+1\n",
    "print(i)\n",
    "i = i+1\n",
    "print(i)\n"
   ]
  },
  {
   "cell_type": "code",
   "execution_count": null,
   "metadata": {},
   "outputs": [
    {
     "name": "stdout",
     "output_type": "stream",
     "text": [
      "6 X 1 = 6\n",
      "6 X 2 = 12\n",
      "6 X 3 = 18\n",
      "6 X 4 = 24\n",
      "6 X 5 = 30\n",
      "6 X 6 = 36\n",
      "6 X 7 = 42\n",
      "6 X 8 = 48\n",
      "6 X 9 = 54\n",
      "6 X 10 = 60\n",
      "\n",
      "\n",
      "6 X 1 = 6\n",
      "6 X 2 = 12\n",
      "6 X 3 = 18\n",
      "6 X 4 = 24\n",
      "6 X 5 = 30\n",
      "6 X 6 = 36\n",
      "6 X 7 = 42\n",
      "6 X 8 = 48\n",
      "6 X 9 = 54\n",
      "6 X 10 = 60\n"
     ]
    }
   ],
   "source": [
    "num = int(input(\"enter num\"))\n",
    "for i in range(1,11,1):\n",
    "    print(f'{num} X {i} = {num*i}')\n",
    "print('\\n')\n",
    "# 0   n\n",
    "i=1\n",
    "while(i<11):\n",
    "    print(f'{num} X {i} = {num*i}')\n",
    "    i=i+1  \n",
    "    # 0  n inf\n",
    "\n",
    "\n",
    "    #do while     1 n inf\n"
   ]
  },
  {
   "cell_type": "markdown",
   "metadata": {},
   "source": [
    "# Iterator which is variable, who is going to iterate (eg. i).<br>\n",
    "# Iterable which can any object on which we can iterate(traverse) ."
   ]
  },
  {
   "cell_type": "code",
   "execution_count": 7,
   "metadata": {},
   "outputs": [
    {
     "name": "stdout",
     "output_type": "stream",
     "text": [
      "1\n",
      "2\n",
      "3\n",
      "4\n"
     ]
    },
    {
     "data": {
      "text/plain": [
       "153"
      ]
     },
     "execution_count": 7,
     "metadata": {},
     "output_type": "execute_result"
    }
   ],
   "source": [
    "for i in {1,2,3,4}:\n",
    "    print(i)\n",
    "1**3 + 5**3 + 3**3"
   ]
  },
  {
   "cell_type": "markdown",
   "metadata": {},
   "source": [
    "# Membership Operator (in)"
   ]
  },
  {
   "cell_type": "markdown",
   "metadata": {},
   "source": [
    "### returns bool value"
   ]
  },
  {
   "cell_type": "markdown",
   "metadata": {},
   "source": []
  },
  {
   "cell_type": "code",
   "execution_count": 12,
   "metadata": {},
   "outputs": [
    {
     "name": "stdout",
     "output_type": "stream",
     "text": [
      "yes\n"
     ]
    }
   ],
   "source": [
    "if 'H' in  'Hello':\n",
    "    print('yes')"
   ]
  },
  {
   "cell_type": "code",
   "execution_count": null,
   "metadata": {},
   "outputs": [],
   "source": [
    "iterator = enumerate(\"hello\")\n",
    "while( True ):\n",
    "    val = next(iterator,False)\n",
    "    if val==False:\n",
    "        break\n",
    "    print(val)"
   ]
  },
  {
   "cell_type": "code",
   "execution_count": 33,
   "metadata": {},
   "outputs": [
    {
     "name": "stdout",
     "output_type": "stream",
     "text": [
      "(0, 'h')\n",
      "(1, 'e')\n",
      "(2, 'l')\n",
      "(3, 'l')\n",
      "(4, 'o')\n"
     ]
    }
   ],
   "source": [
    "for i in enumerate(\"hello\"):\n",
    "    print(i)"
   ]
  },
  {
   "cell_type": "code",
   "execution_count": 47,
   "metadata": {},
   "outputs": [
    {
     "name": "stdout",
     "output_type": "stream",
     "text": [
      "0\n",
      "1\n",
      "2\n",
      "8\n",
      "9\n"
     ]
    }
   ],
   "source": [
    "for i in range(10):\n",
    "    if i in range(3,8):\n",
    "        continue\n",
    "    print(i)"
   ]
  },
  {
   "cell_type": "code",
   "execution_count": null,
   "metadata": {},
   "outputs": [],
   "source": [
    "for i  in range(5):\n",
    "    if i%2==0:  #even  0 2 4\n",
    "        continue # skip\n",
    "    print(i)"
   ]
  },
  {
   "cell_type": "code",
   "execution_count": null,
   "metadata": {},
   "outputs": [
    {
     "name": "stdout",
     "output_type": "stream",
     "text": [
      "0\n",
      "1\n",
      "2\n",
      "end\n"
     ]
    }
   ],
   "source": [
    "for i  in range(50):\n",
    "    if i==3:  #\n",
    "        break # stop\n",
    "    print(i)\n",
    "print(\"end\")"
   ]
  },
  {
   "cell_type": "markdown",
   "metadata": {},
   "source": []
  },
  {
   "cell_type": "code",
   "execution_count": null,
   "metadata": {},
   "outputs": [
    {
     "data": {
      "text/plain": [
       "False"
      ]
     },
     "execution_count": 51,
     "metadata": {},
     "output_type": "execute_result"
    }
   ],
   "source": [
    "a=3.2\n",
    "a in range(0,10)# (0, 1 ,2 ,3 ,4 ,5 ,6 ,7, 8, 9)"
   ]
  },
  {
   "cell_type": "markdown",
   "metadata": {},
   "source": [
    "# Non premitive Data Types"
   ]
  },
  {
   "cell_type": "markdown",
   "metadata": {},
   "source": [
    "#### List\n",
    "#### Tuple\n",
    "#### Dictinary\n",
    "#### Set\n",
    "#### Object"
   ]
  },
  {
   "cell_type": "markdown",
   "metadata": {},
   "source": [
    "# 1.List"
   ]
  },
  {
   "cell_type": "markdown",
   "metadata": {},
   "source": []
  },
  {
   "cell_type": "code",
   "execution_count": null,
   "metadata": {},
   "outputs": [
    {
     "name": "stdout",
     "output_type": "stream",
     "text": [
      "(0, 1)\n",
      "(1, 2)\n",
      "(2, 3)\n",
      "(3, 4)\n"
     ]
    }
   ],
   "source": [
    "for i in  enumerate([1,2,3,4]):\n",
    "    print(i)"
   ]
  },
  {
   "cell_type": "code",
   "execution_count": null,
   "metadata": {},
   "outputs": [
    {
     "data": {
      "text/plain": [
       "[2, 3]"
      ]
     },
     "execution_count": 60,
     "metadata": {},
     "output_type": "execute_result"
    }
   ],
   "source": [
    "[1,2,3,4][1:3]\n",
    "#0 1 2 3   index"
   ]
  },
  {
   "cell_type": "code",
   "execution_count": 99,
   "metadata": {},
   "outputs": [],
   "source": [
    "a = [1.3,True,print,1,'hello',[1,2,3],('x','y','z'),{2,1,7,9},{1:'one',2:'two'}]"
   ]
  },
  {
   "cell_type": "code",
   "execution_count": 100,
   "metadata": {},
   "outputs": [
    {
     "name": "stdout",
     "output_type": "stream",
     "text": [
      "1.3\n",
      "True\n",
      "<built-in function print>\n",
      "1\n",
      "hello\n",
      "[1, 2, 3]\n",
      "('x', 'y', 'z')\n",
      "{1, 2, 9, 7}\n",
      "{1: 'one', 2: 'two'}\n"
     ]
    }
   ],
   "source": [
    "for i in a:\n",
    "    print(i)"
   ]
  },
  {
   "cell_type": "code",
   "execution_count": null,
   "metadata": {},
   "outputs": [
    {
     "name": "stdout",
     "output_type": "stream",
     "text": [
      "[0, 1, 2, 3, 4, [1, 2, 3]]\n"
     ]
    }
   ],
   "source": [
    "a=[0,1,2,3,4]\n",
    "a.append([1,2,3]) #inserts element at last positon\n",
    "print(a)"
   ]
  },
  {
   "cell_type": "code",
   "execution_count": 124,
   "metadata": {},
   "outputs": [
    {
     "name": "stdout",
     "output_type": "stream",
     "text": [
      "[0, 1, 1.2, 2, 3, 4, [1, 2, 3]]\n",
      "[0, 1, 1.2, 2, 3, 4, [1, 2, 3], 1, 2, 3]\n"
     ]
    }
   ],
   "source": [
    "a.insert(2,1.2)  #insert element at specific position\n",
    "print(a)\n",
    "a.extend([1,2,3]) \n",
    "#extends the list with length of the given object and insert all object one by \n",
    "#one at the end of the list\n",
    "print(a)"
   ]
  },
  {
   "cell_type": "code",
   "execution_count": 129,
   "metadata": {},
   "outputs": [
    {
     "name": "stdout",
     "output_type": "stream",
     "text": [
      "[5, 6, 7, 8, 9]\n"
     ]
    }
   ],
   "source": [
    "b=[]\n",
    "for i in range(5,10):\n",
    "    b.append(i)\n",
    "print(b)"
   ]
  },
  {
   "cell_type": "markdown",
   "metadata": {},
   "source": [
    "### Nested Loop"
   ]
  },
  {
   "cell_type": "code",
   "execution_count": null,
   "metadata": {},
   "outputs": [
    {
     "name": "stdout",
     "output_type": "stream",
     "text": [
      "a 1\ta 2\ta 3\ta 4\t\n",
      "b 1\tb 2\tb 3\tb 4\t\n",
      "c 1\tc 2\tc 3\tc 4\t\n",
      "d 1\td 2\td 3\td 4\t\n",
      "e 1\te 2\te 3\te 4\t\n"
     ]
    }
   ],
   "source": [
    "for i in 'abcde':          #  i=a         b          c\n",
    "    for j in range(1,5): # j =1 2 3     1 2 3      1 2 3    \n",
    "        print(i,j,end=\"\\t\")\n",
    "    print()"
   ]
  },
  {
   "cell_type": "code",
   "execution_count": 128,
   "metadata": {},
   "outputs": [
    {
     "name": "stdout",
     "output_type": "stream",
     "text": [
      "[[1, 2, 3], [4, 5, 6], [7, 8, 9]]\n"
     ]
    }
   ],
   "source": [
    "b=[[1,2,3],[4,5,6],[7,8,9]]\n",
    "print(b)"
   ]
  },
  {
   "cell_type": "code",
   "execution_count": 3,
   "metadata": {},
   "outputs": [],
   "source": [
    "a = []\n",
    "count = 1\n",
    "for i in range(3):\n",
    "    a.append([])\n",
    "    for j in range(3):\n",
    "        a[i].append(count)\n",
    "        count+=1"
   ]
  },
  {
   "cell_type": "code",
   "execution_count": 4,
   "metadata": {},
   "outputs": [
    {
     "data": {
      "text/plain": [
       "[[1, 2, 3], [4, 5, 6], [7, 8, 9]]"
      ]
     },
     "execution_count": 4,
     "metadata": {},
     "output_type": "execute_result"
    }
   ],
   "source": [
    "a"
   ]
  },
  {
   "cell_type": "code",
   "execution_count": 5,
   "metadata": {},
   "outputs": [],
   "source": [
    "b=[9,8,7,6,5,4,3,2,1,0]"
   ]
  },
  {
   "cell_type": "code",
   "execution_count": 6,
   "metadata": {},
   "outputs": [],
   "source": [
    "b=[]\n",
    "for i in range(9,-1,-1):\n",
    "    b.append(i)"
   ]
  },
  {
   "cell_type": "code",
   "execution_count": 27,
   "metadata": {},
   "outputs": [],
   "source": [
    "b = [i for i in range(9,-1,-1) ]"
   ]
  },
  {
   "cell_type": "code",
   "execution_count": 28,
   "metadata": {},
   "outputs": [
    {
     "data": {
      "text/plain": [
       "[9, 8, 7, 6, 5, 4, 3, 2, 1, 0]"
      ]
     },
     "execution_count": 28,
     "metadata": {},
     "output_type": "execute_result"
    }
   ],
   "source": [
    "b"
   ]
  },
  {
   "cell_type": "markdown",
   "metadata": {},
   "source": [
    "### Tuple"
   ]
  },
  {
   "cell_type": "code",
   "execution_count": 40,
   "metadata": {},
   "outputs": [
    {
     "name": "stdout",
     "output_type": "stream",
     "text": [
      "<class 'tuple'>\n"
     ]
    }
   ],
   "source": [
    "a = ('hello',)\n",
    "b=tuple()\n",
    "c = (1,2,3)\n",
    "print(type(a))"
   ]
  },
  {
   "cell_type": "code",
   "execution_count": 32,
   "metadata": {},
   "outputs": [
    {
     "data": {
      "text/plain": [
       "True"
      ]
     },
     "execution_count": 32,
     "metadata": {},
     "output_type": "execute_result"
    }
   ],
   "source": [
    "type(a)==type(b)==type(c)"
   ]
  },
  {
   "cell_type": "code",
   "execution_count": 53,
   "metadata": {},
   "outputs": [],
   "source": [
    "c = list(c)\n",
    "c.append(4)"
   ]
  },
  {
   "cell_type": "code",
   "execution_count": 55,
   "metadata": {},
   "outputs": [
    {
     "data": {
      "text/plain": [
       "[1, 2, 3, 4]"
      ]
     },
     "execution_count": 55,
     "metadata": {},
     "output_type": "execute_result"
    }
   ],
   "source": [
    "c"
   ]
  },
  {
   "cell_type": "code",
   "execution_count": null,
   "metadata": {},
   "outputs": [],
   "source": [
    "a = (1,2,3,4,5,[1,2,3,4])"
   ]
  },
  {
   "cell_type": "code",
   "execution_count": 62,
   "metadata": {},
   "outputs": [],
   "source": [
    "a[5].append(5)"
   ]
  },
  {
   "cell_type": "code",
   "execution_count": 60,
   "metadata": {},
   "outputs": [
    {
     "data": {
      "text/plain": [
       "(1, 2, 3, 4, 5, [1, 2, 3, 4, 5])"
      ]
     },
     "execution_count": 60,
     "metadata": {},
     "output_type": "execute_result"
    }
   ],
   "source": [
    "a"
   ]
  },
  {
   "cell_type": "code",
   "execution_count": null,
   "metadata": {},
   "outputs": [],
   "source": []
  },
  {
   "cell_type": "code",
   "execution_count": null,
   "metadata": {},
   "outputs": [],
   "source": [
    "a=[1,2,3,['a','b','c']]\n",
    "b=a.copy() # a=b"
   ]
  },
  {
   "cell_type": "code",
   "execution_count": null,
   "metadata": {},
   "outputs": [],
   "source": [
    "b[3].append('d')"
   ]
  },
  {
   "cell_type": "code",
   "execution_count": 99,
   "metadata": {},
   "outputs": [
    {
     "data": {
      "text/plain": [
       "[1, 2, 3, ['a', 'b', 'c', 'd']]"
      ]
     },
     "execution_count": 99,
     "metadata": {},
     "output_type": "execute_result"
    }
   ],
   "source": [
    "a"
   ]
  },
  {
   "cell_type": "code",
   "execution_count": 94,
   "metadata": {},
   "outputs": [
    {
     "name": "stdout",
     "output_type": "stream",
     "text": [
      "2935598920960\n",
      "2935598853248\n"
     ]
    }
   ],
   "source": [
    "print(id(a))\n",
    "print(id(b))"
   ]
  },
  {
   "cell_type": "code",
   "execution_count": 78,
   "metadata": {},
   "outputs": [],
   "source": [
    "c=\"hello \"\n",
    "d=\"hello \""
   ]
  },
  {
   "cell_type": "code",
   "execution_count": 79,
   "metadata": {},
   "outputs": [
    {
     "name": "stdout",
     "output_type": "stream",
     "text": [
      "2935594205376\n",
      "2935594041824\n"
     ]
    }
   ],
   "source": [
    "print(id(c))\n",
    "print(id(d))"
   ]
  },
  {
   "cell_type": "code",
   "execution_count": 106,
   "metadata": {},
   "outputs": [],
   "source": [
    "a=(1,2,3,1,2,1,1,1,1)"
   ]
  },
  {
   "cell_type": "code",
   "execution_count": 111,
   "metadata": {},
   "outputs": [
    {
     "data": {
      "text/plain": [
       "6"
      ]
     },
     "execution_count": 111,
     "metadata": {},
     "output_type": "execute_result"
    }
   ],
   "source": [
    "a.count(1)"
   ]
  },
  {
   "cell_type": "markdown",
   "metadata": {},
   "source": [
    "### Set"
   ]
  },
  {
   "cell_type": "code",
   "execution_count": 157,
   "metadata": {},
   "outputs": [],
   "source": [
    "a={i for i in range(4,0,-1)}\n",
    "b={'a','b','c','d'}"
   ]
  },
  {
   "cell_type": "code",
   "execution_count": null,
   "metadata": {},
   "outputs": [
    {
     "name": "stdout",
     "output_type": "stream",
     "text": [
      "{1, 2, 3, 4, 5}\n"
     ]
    }
   ],
   "source": [
    "a.add(5)\n",
    "print(a)"
   ]
  },
  {
   "cell_type": "code",
   "execution_count": 123,
   "metadata": {},
   "outputs": [
    {
     "name": "stdout",
     "output_type": "stream",
     "text": [
      "0\n",
      "1\n",
      "2\n",
      "3\n",
      "b\n",
      "0\n",
      "a\n"
     ]
    }
   ],
   "source": [
    "for i in a:\n",
    "    print(i)"
   ]
  },
  {
   "cell_type": "code",
   "execution_count": 128,
   "metadata": {},
   "outputs": [
    {
     "data": {
      "text/plain": [
       "4"
      ]
     },
     "execution_count": 128,
     "metadata": {},
     "output_type": "execute_result"
    }
   ],
   "source": [
    "import random\n",
    "random.randint(1,10)"
   ]
  },
  {
   "cell_type": "code",
   "execution_count": 163,
   "metadata": {},
   "outputs": [],
   "source": [
    "a = [5,2,1,2,3,4,5,5,2,1,2,1,2,4,5,4,3,2,3,4,5,3,2,1,3,2,2,1,1,3]\n",
    "b=[]\n",
    "for i in a:\n",
    "    if i not in b:\n",
    "        b.append(i)"
   ]
  },
  {
   "cell_type": "code",
   "execution_count": 164,
   "metadata": {},
   "outputs": [
    {
     "data": {
      "text/plain": [
       "[5, 2, 1, 3, 4]"
      ]
     },
     "execution_count": 164,
     "metadata": {},
     "output_type": "execute_result"
    }
   ],
   "source": [
    "b"
   ]
  },
  {
   "cell_type": "code",
   "execution_count": 172,
   "metadata": {},
   "outputs": [],
   "source": [
    "d = {(1,2):\"one\",\"two\":2}\n",
    "d[\"two\"]=\"update value\""
   ]
  },
  {
   "cell_type": "code",
   "execution_count": 173,
   "metadata": {},
   "outputs": [
    {
     "data": {
      "text/plain": [
       "{(1, 2): 'one', 'two': 'update value'}"
      ]
     },
     "execution_count": 173,
     "metadata": {},
     "output_type": "execute_result"
    }
   ],
   "source": [
    "d"
   ]
  },
  {
   "cell_type": "code",
   "execution_count": 6,
   "metadata": {},
   "outputs": [
    {
     "name": "stdout",
     "output_type": "stream",
     "text": [
      "hello\n",
      "end\n"
     ]
    }
   ],
   "source": [
    "if 11>2:\n",
    "    print(\"hello\")\n",
    "print(\"end\")"
   ]
  },
  {
   "cell_type": "code",
   "execution_count": null,
   "metadata": {},
   "outputs": [
    {
     "ename": "IndentationError",
     "evalue": "expected an indented block after 'for' statement on line 1 (2318891327.py, line 3)",
     "output_type": "error",
     "traceback": [
      "\u001b[1;36m  Cell \u001b[1;32mIn[12], line 3\u001b[1;36m\u001b[0m\n\u001b[1;33m    print('end')\u001b[0m\n\u001b[1;37m    ^\u001b[0m\n\u001b[1;31mIndentationError\u001b[0m\u001b[1;31m:\u001b[0m expected an indented block after 'for' statement on line 1\n"
     ]
    }
   ],
   "source": [
    "for i in range(100000000):\n",
    "    pass\n",
    "print('end')"
   ]
  },
  {
   "cell_type": "code",
   "execution_count": 15,
   "metadata": {},
   "outputs": [
    {
     "name": "stdout",
     "output_type": "stream",
     "text": [
      "3095478843600\n",
      "3095478832224\n",
      "3095478845280\n"
     ]
    }
   ],
   "source": [
    "a=\"hello \"\n",
    "b=\"hello \"\n",
    "print(id('hello '),id(a),id(b),sep=\"\\n\")\n"
   ]
  },
  {
   "cell_type": "code",
   "execution_count": 19,
   "metadata": {},
   "outputs": [
    {
     "data": {
      "text/plain": [
       "[1, 3, 5, 7, 9, 11, 13, 15, 17, 19]"
      ]
     },
     "execution_count": 19,
     "metadata": {},
     "output_type": "execute_result"
    }
   ],
   "source": [
    "[i for i in range(1,21,2)]"
   ]
  },
  {
   "cell_type": "markdown",
   "metadata": {},
   "source": [
    "## Prime numbers"
   ]
  },
  {
   "cell_type": "code",
   "execution_count": null,
   "metadata": {},
   "outputs": [
    {
     "name": "stdout",
     "output_type": "stream",
     "text": [
      "49 its not a prime number\n"
     ]
    }
   ],
   "source": [
    "num = int(input(\"Enter value to check prime\"))\n",
    "result = f\"{num} its prime number\"\n",
    "for i in range(2,num):\n",
    "    if num % i == 0 :\n",
    "        result = f\"{num} its not a prime number\"\n",
    "\n",
    "print(result)"
   ]
  },
  {
   "cell_type": "markdown",
   "metadata": {},
   "source": [
    "## Dictionary"
   ]
  },
  {
   "cell_type": "code",
   "execution_count": null,
   "metadata": {},
   "outputs": [
    {
     "name": "stdout",
     "output_type": "stream",
     "text": [
      "{1: None, 2: None, 3: None, 4: None, 5: None}\n",
      "{1: None, 2: None}\n",
      "{1: None, 2: None, (1, 2): 'two'}\n"
     ]
    }
   ],
   "source": [
    "# first way to create dictianry\n",
    "print(dict().fromkeys([1,2,3,4,5]))\n",
    "#second way\n",
    "a= {1:None,2:None}\n",
    "print(a)\n",
    "#third way\n",
    "d= dict()\n",
    "d[1] = None\n",
    "d[2] = None\n",
    "d[(1,2)] = \"two\"\n",
    "print(d)"
   ]
  },
  {
   "cell_type": "markdown",
   "metadata": {},
   "source": []
  },
  {
   "cell_type": "code",
   "execution_count": null,
   "metadata": {},
   "outputs": [
    {
     "data": {
      "text/plain": [
       "990971081378578586"
      ]
     },
     "execution_count": 52,
     "metadata": {},
     "output_type": "execute_result"
    }
   ],
   "source": [
    "# # hash(\"Lorem ipsum dolor sit amet consectetur adipisicing elit. Nobis ut dignissimos aliquid sint et nam, ipsam aut quod quis optio nemo repellat aperiam possimus dicta reiciendis explicabo sed consectetur repellendus libero amet odio illo consequuntur vel eum. Accusamus pariatur cupiditate adipisci sunt corrupti recusandae ut quod explicabo reiciendis voluptate quaerat minus aperiam nisi perferendis, deserunt voluptas eius maxime dolorem quidem ducimus dignissimos magni natus unde quo? Ex rem, voluptatum fugiat eos quam laborum debitis. Impedit, corrupti! Consectetur, cumque? Dicta sapiente animi eligendi necessitatibus odit adipisci! Amet dicta vel adipisci fugit similique, temporibus minus eaque tempore harum voluptas commodi fugiat rem voluptates obcaecati expedita aliquid cumque laborum provident voluptatem eius in iure nihil incidunt. Harum ipsum accusamus aliquam earum delectus eligendi consequuntur quibusdam facilis. Suscipit, harum ex! Deserunt molestias quos velit odit neque consequuntur omnis assumenda consectetur sapiente eveniet quas, fugiat nesciunt blanditiis sed, sunt tenetur molestiae eligendi inventore. Obcaecati illo quas nisi, modi, earum nihil facere ex, possimus optio adipisci accusantium ullam officia vero? Nisi fugit quas saepe illo praesentium quibusdam ab molestias molestiae, exercitationem consequatur adipisci cumque voluptate accusamus unde! Modi reprehenderit maxime ducimus alias quae voluptate eos, necessitatibus sit incidunt perferendis saepe nam, aspernatur harum cum? Laboriosam error commodi expedita sunt reprehenderit, harum autem cumque odio quae qui recusandae quis nam aliquid praesentium omnis quod alias placeat quas nisi, possimus neque et fugit maxime est. Illo et quas asperiores commodi ratione? Ipsum, doloribus minus. Molestias, commodi obcaecati doloribus labore consectetur repellendus quis cum maxime inventore vel rem asperiores unde praesentium perferendis similique adipisci eaque minus reiciendis veniam sit soluta est repudiandae. Quod eveniet sequi atque aspernatur? Corrupti itaque quos odit ipsum temporibus pariatur rem labore repellat excepturi nobis. Asperiores fuga possimus ipsa amet sapiente in. In distinctio quia tempora asperiores. Autem porro possimus eos! Repellat voluptatum dolore sunt consequatur? Ex nulla nemo tenetur, possimus qui tempore, voluptatibus rerum voluptatum dolor expedita vel. Consequuntur reprehenderit minima est ex perspiciatis reiciendis deleniti cumque, tempore, modi maiores non eaque dolorem, sit nesciunt autem quod voluptates. Laudantium officiis provident consequatur rem nihil sint vel, ullam est eligendi nulla obcaecati eos deserunt facilis accusamus, eveniet autem odio eaque inventore! Perferendis, vero? Neque magnam saepe esse architecto dolorum, necessitatibus accusantium doloremque dignissimos, praesentium culpa vel eum, sit eos vitae sint impedit quia tempora? Maxime a sit fugit, dolore magni architecto voluptatem officiis commodi ratione perspiciatis sapiente provident nihil adipisci consequuntur vitae accusamus veritatis iusto voluptate, quo excepturi debitis! Suscipit illo saepe facere est nihil voluptas maxime labore laboriosam aperiam modi odit deleniti numquam, reprehenderit, omnis, quas sequi perspiciatis. Recusandae similique veritatis doloremque ea omnis ratione accusantium provident blanditiis odio, tempore ducimus cumque inventore, mollitia debitis quidem sunt aperiam exercitationem accusamus nam in ipsa. Quod, autem sed maxime blanditiis, explicabo molestias dicta cum, ea dolorum commodi saepe possimus incidunt ullam veritatis iusto culpa id perspiciatis ipsam. Dolor quisquam enim recusandae aut expedita iste magnam. Unde, minima, vel deserunt ex ullam odit dolorum id ipsam excepturi, iure consequuntur. Odio, in enim. Iste molestias laborum sunt perspiciatis voluptatibus tempora deleniti iure enim illum dolores, modi officia soluta consequatur delectus! Atque distinctio exercitationem voluptatum explicabo eveniet. Excepturi minus accusamus quasi odio. Vel dignissimos eum exercitationem numquam libero veniam sit dolore sint nostrum reprehenderit repellendus recusandae aut unde eos illum rem excepturi tenetur facilis sed soluta magni a, maxime doloribus eius. Non laborum totam accusamus accusantium veniam, dolorem dicta odit adipisci deleniti, quibusdam animi sequi natus nisi quis similique. Ut expedita nulla dicta necessitatibus odit aperiam sapiente voluptates dolorum odio est exercitationem delectus deserunt id, impedit eius officiis beatae perspiciatis quidem voluptate. Rem, necessitatibus expedita. Esse similique maiores alias veritatis, nulla voluptate molestiae voluptatibus sapiente doloribus quod deleniti placeat earum, sequi autem nesciunt, aut vitae natus rerum cumque. Temporibus rerum alias omnis? Ipsam veniam, molestias rerum assumenda harum sunt earum soluta exercitationem culpa nostrum fugiat cum doloremque esse officiis architecto, impedit nobis. Eaque dicta quam totam ut, sapiente, eum perspiciatis nemo tempore cupiditate tempora omnis unde voluptatem cumque molestias necessitatibus veniam recusandae explicabo facilis. Maxime possimus exercitationem aliquam maiores doloremque accusamus, esse nulla illo rem aut, sit dolores unde nihil quaerat. Delectus nam tempore fuga quo distinctio! Officia quia molestias quisquam optio a veniam voluptate doloribus? Dolorum numquam mollitia quibusdam aut, sit neque rerum obcaecati facilis doloremque nemo. At officia numquam necessitatibus quidem veniam provident dicta officiis, molestias rem amet aliquam unde, magnam quia vitae earum natus ipsam. Fugiat neque dolorum expedita nesciunt voluptate nobis, commodi nam nostrum quisquam praesentium ipsum at doloremque optio natus enim reiciendis aspernatur veritatis amet eveniet atque. Id tempora quas architecto doloribus praesentium quasi eos. Soluta consequatur ex repellendus quas eum alias odit nihil quasi laborum architecto natus ab doloremque necessitatibus reiciendis assumenda sequi quia beatae nostrum non, optio dolore, at molestiae. Molestiae, labore ut commodi dicta quas modi, aut, ad laudantium optio assumenda eligendi ipsa sint veniam recusandae temporibus facilis ex? Ea provident ullam nostrum optio, quibusdam, quam alias, iure recusandae blanditiis voluptatibus facilis exercitationem pariatur odit laudantium assumenda sit. Pariatur porro harum quaerat voluptate quia nulla voluptatum distinctio illum laboriosam quibusdam debitis voluptas, voluptates laborum quisquam assumenda recusandae corrupti molestiae? Ad possimus error amet sit in facere temporibus nisi tempora reprehenderit unde iure illum, mollitia officiis aliquam ea blanditiis! Minima iste necessitatibus sit et illo debitis quas, eligendi eveniet obcaecati veniam dicta alias asperiores eaque nemo eum, ratione est sequi ipsum quam? Maxime at quaerat iure quod deleniti officiis, error, tenetur, totam nam nihil fugiat. Magnam odit nobis, sint harum at nemo beatae iste tenetur ipsum natus? Facere qui mollitia voluptatibus soluta expedita quasi itaque quibusdam fugiat repellendus, maxime quas! Aperiam sit minus, ratione non fugiat mollitia, sequi praesentium eum iure illo quas corrupti natus provident laboriosam repellat itaque atque vero. Necessitatibus reiciendis perspiciatis, quos ex saepe labore distinctio? Sequi soluta tempora sed neque, debitis ab porro harum dolores laboriosam est possimus corporis corrupti, esse natus ex repellat excepturi autem alias perferendis ea dignissimos! Totam, ipsum error aut, odio quo cum repellat tenetur quisquam a eligendi id enim impedit, placeat suscipit necessitatibus?\")\n",
    "# a=\"Lorem ipsum dolor sit amet consectetur adipisicing elit. Nobis ut dignissimos aliquid sint et nam, ipsam aut quod quis optio nemo repellat aperiam possimus dicta reiciendis explicabo sed consectetur repellendus libero amet odio illo consequuntur vel eum. Accusamus pariatur cupiditate adipisci sunt corrupti recusandae ut quod explicabo reiciendis voluptate quaerat minus aperiam nisi perferendis, deserunt voluptas eius maxime dolorem quidem ducimus dignissimos magni natus unde quo? Ex rem, voluptatum fugiat eos quam laborum debitis. Impedit, corrupti! Consectetur, cumque? Dicta sapiente animi eligendi necessitatibus odit adipisci! Amet dicta vel adipisci fugit similique, temporibus minus eaque tempore harum voluptas commodi fugiat rem voluptates obcaecati expedita aliquid cumque laborum provident voluptatem eius in iure nihil incidunt. Harum ipsum accusamus aliquam earum delectus eligendi consequuntur quibusdam facilis. Suscipit, harum ex! Deserunt molestias quos velit odit neque consequuntur omnis assumenda consectetur sapiente eveniet quas, fugiat nesciunt blanditiis sed, sunt tenetur molestiae eligendi inventore. Obcaecati illo quas nisi, modi, earum nihil facere ex, possimus optio adipisci accusantium ullam officia vero? Nisi fugit quas saepe illo praesentium quibusdam ab molestias molestiae, exercitationem consequatur adipisci cumque voluptate accusamus unde! Modi reprehenderit maxime ducimus alias quae voluptate eos, necessitatibus sit incidunt perferendis saepe nam, aspernatur harum cum? Laboriosam error commodi expedita sunt reprehenderit, harum autem cumque odio quae qui recusandae quis nam aliquid praesentium omnis quod alias placeat quas nisi, possimus neque et fugit maxime est. Illo et quas asperiores commodi ratione? Ipsum, doloribus minus. Molestias, commodi obcaecati doloribus labore consectetur repellendus quis cum maxime inventore vel rem asperiores unde praesentium perferendis similique adipisci eaque minus reiciendis veniam sit soluta est repudiandae. Quod eveniet sequi atque aspernatur? Corrupti itaque quos odit ipsum temporibus pariatur rem labore repellat excepturi nobis. Asperiores fuga possimus ipsa amet sapiente in. In distinctio quia tempora asperiores. Autem porro possimus eos! Repellat voluptatum dolore sunt consequatur? Ex nulla nemo tenetur, possimus qui tempore, voluptatibus rerum voluptatum dolor expedita vel. Consequuntur reprehenderit minima est ex perspiciatis reiciendis deleniti cumque, tempore, modi maiores non eaque dolorem, sit nesciunt autem quod voluptates. Laudantium officiis provident consequatur rem nihil sint vel, ullam est eligendi nulla obcaecati eos deserunt facilis accusamus, eveniet autem odio eaque inventore! Perferendis, vero? Neque magnam saepe esse architecto dolorum, necessitatibus accusantium doloremque dignissimos, praesentium culpa vel eum, sit eos vitae sint impedit quia tempora? Maxime a sit fugit, dolore magni architecto voluptatem officiis commodi ratione perspiciatis sapiente provident nihil adipisci consequuntur vitae accusamus veritatis iusto voluptate, quo excepturi debitis! Suscipit illo saepe facere est nihil voluptas maxime labore laboriosam aperiam modi odit deleniti numquam, reprehenderit, omnis, quas sequi perspiciatis. Recusandae similique veritatis doloremque ea omnis ratione accusantium provident blanditiis odio, tempore ducimus cumque inventore, mollitia debitis quidem sunt aperiam exercitationem accusamus nam in ipsa. Quod, autem sed maxime blanditiis, explicabo molestias dicta cum, ea dolorum commodi saepe possimus incidunt ullam veritatis iusto culpa id perspiciatis ipsam. Dolor quisquam enim recusandae aut expedita iste magnam. Unde, minima, vel deserunt ex ullam odit dolorum id ipsam excepturi, iure consequuntur. Odio, in enim. Iste molestias laborum sunt perspiciatis voluptatibus tempora deleniti iure enim illum dolores, modi officia soluta consequatur delectus! Atque distinctio exercitationem voluptatum explicabo eveniet. Excepturi minus accusamus quasi odio. Vel dignissimos eum exercitationem numquam libero veniam sit dolore sint nostrum reprehenderit repellendus recusandae aut unde eos illum rem excepturi tenetur facilis sed soluta magni a, maxime doloribus eius. Non laborum totam accusamus accusantium veniam, dolorem dicta odit adipisci deleniti, quibusdam animi sequi natus nisi quis similique. Ut expedita nulla dicta necessitatibus odit aperiam sapiente voluptates dolorum odio est exercitationem delectus deserunt id, impedit eius officiis beatae perspiciatis quidem voluptate. Rem, necessitatibus expedita. Esse similique maiores alias veritatis, nulla voluptate molestiae voluptatibus sapiente doloribus quod deleniti placeat earum, sequi autem nesciunt, aut vitae natus rerum cumque. Temporibus rerum alias omnis? Ipsam veniam, molestias rerum assumenda harum sunt earum soluta exercitationem culpa nostrum fugiat cum doloremque esse officiis architecto, impedit nobis. Eaque dicta quam totam ut, sapiente, eum perspiciatis nemo tempore cupiditate tempora omnis unde voluptatem cumque molestias necessitatibus veniam recusandae explicabo facilis. Maxime possimus exercitationem aliquam maiores doloremque accusamus, esse nulla illo rem aut, sit dolores unde nihil quaerat. Delectus nam tempore fuga quo distinctio! Officia quia molestias quisquam optio a veniam voluptate doloribus? Dolorum numquam mollitia quibusdam aut, sit neque rerum obcaecati facilis doloremque nemo. At officia numquam necessitatibus quidem veniam provident dicta officiis, molestias rem amet aliquam unde, magnam quia vitae earum natus ipsam. Fugiat neque dolorum expedita nesciunt voluptate nobis, commodi nam nostrum quisquam praesentium ipsum at doloremque optio natus enim reiciendis aspernatur veritatis amet eveniet atque. Id tempora quas architecto doloribus praesentium quasi eos. Soluta consequatur ex repellendus quas eum alias odit nihil quasi laborum architecto natus ab doloremque necessitatibus reiciendis assumenda sequi quia beatae nostrum non, optio dolore, at molestiae. Molestiae, labore ut commodi dicta quas modi, aut, ad laudantium optio assumenda eligendi ipsa sint veniam recusandae temporibus facilis ex? Ea provident ullam nostrum optio, quibusdam, quam alias, iure recusandae blanditiis voluptatibus facilis exercitationem pariatur odit laudantium assumenda sit. Pariatur porro harum quaerat voluptate quia nulla voluptatum distinctio illum laboriosam quibusdam debitis voluptas, voluptates laborum quisquam assumenda recusandae corrupti molestiae? Ad possimus error amet sit in facere temporibus nisi tempora reprehenderit unde iure illum, mollitia officiis aliquam ea blanditiis! Minima iste necessitatibus sit et illo debitis quas, eligendi eveniet obcaecati veniam dicta alias asperiores eaque nemo eum, ratione est sequi ipsum quam? Maxime at quaerat iure quod deleniti officiis, error, tenetur, totam nam nihil fugiat. Magnam odit nobis, sint harum at nemo beatae iste tenetur ipsum natus? Facere qui mollitia voluptatibus soluta expedita quasi itaque quibusdam fugiat repellendus, maxime quas! Aperiam sit minus, ratione non fugiat mollitia, sequi praesentium eum iure illo quas corrupti natus provident laboriosam repellat itaque atque vero. Necessitatibus reiciendis perspiciatis, quos ex saepe labore distinctio? Sequi soluta tempora sed neque, debitis ab porro harum dolores laboriosam est possimus corporis corrupti, esse natus ex repellat excepturi autem alias perferendis ea dignissimos! Totam, ipsum error aut, odio quo cum repellat tenetur quisquam a eligendi id enim impedit, placeat suscipit necessitatibus?\"\n",
    "# a = hash(a)\n",
    "# b=\"Lorem ipsum dolor sit amet consectetur adipisicing elit. Nobis ut dignissimos aliquid sint et nam, ipsam aut quod quis optio nemo repellat aperiam possimus dicta reiciendis explicabo sed consectetur repellendus libero amet odio illo consequuntur vel eum. Accusamus pariatur cupiditate adipisci sunt corrupti recusandae ut quod explicabo reiciendis voluptate quaerat minus aperiam nisi perferendis, deserunt voluptas eius maxime dolorem quidem ducimus dignissimos magni natus unde quo? Ex rem, voluptatum fugiat eos quam laborum debitis. Impedit, corrupti! Consectetur, cumque? Dicta sapiente animi eligendi necessitatibus odit adipisci! Amet dicta vel adipisci fugit similique, temporibus minus eaque tempore harum voluptas commodi fugiat rem voluptates obcaecati expedita aliquid cumque laborum provident voluptatem eius in iure nihil incidunt. Harum ipsum accusamus aliquam earum delectus eligendi consequuntur quibusdam facilis. Suscipit, harum ex! Deserunt molestias quos velit odit neque consequuntur omnis assumenda consectetur sapiente eveniet quas, fugiat nesciunt blanditiis sed, sunt tenetur molestiae eligendi inventore. Obcaecati illo quas nisi, modi, earum nihil facere ex, possimus optio adipisci accusantium ullam officia vero? Nisi fugit quas saepe illo praesentium quibusdam ab molestias molestiae, exercitationem consequatur adipisci cumque voluptate accusamus unde! Modi reprehenderit maxime ducimus alias quae voluptate eos, necessitatibus sit incidunt perferendis saepe nam, aspernatur harum cum? Laboriosam error commodi expedita sunt reprehenderit, harum autem cumque odio quae qui recusandae quis nam aliquid praesentium omnis quod alias placeat quas nisi, possimus neque et fugit maxime est. Illo et quas asperiores commodi ratione? Ipsum, doloribus minus. Molestias, commodi obcaecati doloribus labore consectetur repellendus quis cum maxime inventore vel rem asperiores unde praesentium perferendis similique adipisci eaque minus reiciendis veniam sit soluta est repudiandae. Quod eveniet sequi atque aspernatur? Corrupti itaque quos odit ipsum temporibus pariatur rem labore repellat excepturi nobis. Asperiores fuga possimus ipsa amet sapiente in. In distinctio quia tempora asperiores. Autem porro possimus eos! Repellat voluptatum dolore sunt consequatur? Ex nulla nemo tenetur, possimus qui tempore, voluptatibus rerum voluptatum dolor expedita vel. Consequuntur reprehenderit minima est ex perspiciatis reiciendis deleniti cumque, tempore, modi maiores non eaque dolorem, sit nesciunt autem quod voluptates. Laudantium officiis provident consequatur rem nihil sint vel, ullam est eligendi nulla obcaecati eos deserunt facilis accusamus, eveniet autem odio eaque inventore! Perferendis, vero? Neque magnam saepe esse architecto dolorum, necessitatibus accusantium doloremque dignissimos, praesentium culpa vel eum, sit eos vitae sint impedit quia tempora? Maxime a sit fugit, dolore magni architecto voluptatem officiis commodi ratione perspiciatis sapiente provident nihil adipisci consequuntur vitae accusamus veritatis iusto voluptate, quo excepturi debitis! Suscipit illo saepe facere est nihil voluptas maxime labore laboriosam aperiam modi odit deleniti numquam, reprehenderit, omnis, quas sequi perspiciatis. Recusandae similique veritatis doloremque ea omnis ratione accusantium provident blanditiis odio, tempore ducimus cumque inventore, mollitia debitis quidem sunt aperiam exercitationem accusamus nam in ipsa. Quod, autem sed maxime blanditiis, explicabo molestias dicta cum, ea dolorum commodi saepe possimus incidunt ullam veritatis iusto culpa id perspiciatis ipsam. Dolor quisquam enim recusandae aut expedita iste magnam. Unde, minima, vel deserunt ex ullam odit dolorum id ipsam excepturi, iure consequuntur. Odio, in enim. Iste molestias laborum sunt perspiciatis voluptatibus tempora deleniti iure enim illum dolores, modi officia soluta consequatur delectus! Atque distinctio exercitationem voluptatum explicabo eveniet. Excepturi minus accusamus quasi odio. Vel dignissimos eum exercitationem numquam libero veniam sit dolore sint nostrum reprehenderit repellendus recusandae aut unde eos illum rem excepturi tenetur facilis sed soluta magni a, maxime doloribus eius. Non laborum totam accusamus accusantium veniam, dolorem dicta odit adipisci deleniti, quibusdam animi sequi natus nisi quis similique. Ut expedita nulla dicta necessitatibus odit aperiam sapiente voluptates dolorum odio est exercitationem delectus deserunt id, impedit eius officiis beatae perspiciatis quidem voluptate. Rem, necessitatibus expedita. Esse similique maiores alias veritatis, nulla voluptate molestiae voluptatibus sapiente doloribus quod deleniti placeat earum, sequi autem nesciunt, aut vitae natus rerum cumque. Temporibus rerum alias omnis? Ipsam veniam, molestias rerum assumenda harum sunt earum soluta exercitationem culpa nostrum fugiat cum doloremque esse officiis architecto, impedit nobis. Eaque dicta quam totam ut, sapiente, eum perspiciatis nemo tempore cupiditate tempora omnis unde voluptatem cumque molestias necessitatibus veniam recusandae explicabo facilis. Maxime possimus exercitationem aliquam maiores doloremque accusamus, esse nulla illo rem aut, sit dolores unde nihil quaerat. Delectus nam tempore fuga quo distinctio! Officia quia molestias quisquam optio a veniam voluptate doloribus? Dolorum numquam mollitia quibusdam aut, sit neque rerum obcaecati facilis doloremque nemo. At officia numquam necessitatibus quidem veniam provident dicta officiis, molestias rem amet aliquam unde, magnam quia vitae earum natus ipsam. Fugiat neque dolorum expedita nesciunt voluptate nobis, commodi nam nostrum quisquam praesentium ipsum at doloremque optio natus enim reiciendis aspernatur veritatis amet eveniet atque. Id tempora quas architecto doloribus praesentium quasi eos. Soluta consequatur ex repellendus quas eum alias odit nihil quasi laborum architecto natus ab doloremque necessitatibus reiciendis assumenda sequi quia beatae nostrum non, optio dolore, at molestiae. Molestiae, labore ut commodi dicta quas modi, aut, ad laudantium optio assumenda eligendi ipsa sint veniam recusandae temporibus facilis ex? Ea provident ullam nostrum optio, quibusdam, quam alias, iure recusandae blanditiis voluptatibus facilis exercitationem pariatur odit laudantium assumenda sit. Pariatur porro harum quaerat voluptate quia nulla voluptatum distinctio illum laboriosam quibusdam debitis voluptas, voluptates laborum quisquam assumenda recusandae corrupti molestiae? Ad possimus error amet sit in facere temporibus nisi tempora reprehenderit unde iure illum, mollitia officiis aliquam ea blanditiis! Minima iste necessitatibus sit et illo debitis quas, eligendi eveniet obcaecati veniam dicta alias asperiores eaque nemo eum, ratione est sequi ipsum quam? Maxime at quaerat iure quod deleniti officiis, error, tenetur, totam nam nihil fugiat. Magnam odit nobis, sint harum at nemo beatae iste tenetur ipsum natus? Facere qui mollitia voluptatibus soluta expedita quasi itaque quibusdam fugiat repellendus, maxime quas! Aperiam sit minus, ratione non fugiat mollitia, sequi praesentium eum iure illo quas corrupti natus provident laboriosam repellat itaque atque vero. Necessitatibus reiciendis perspiciatis, quos ex saepe labore distinctio? Sequi soluta tempora sed neque, debitis ab porro harum dolores laboriosam est possimus corporis corrupti, esse natus ex repellat excepturi autem alias perferendis ea dignissimos! Totam, ipsum error aut, odio quo cum repellat tenetur quisquam a eligendi id enim impedit, placeat suscipit necessitatibus?\"\n",
    "# a == hash(b)\n",
    "# a"
   ]
  },
  {
   "cell_type": "code",
   "execution_count": null,
   "metadata": {},
   "outputs": [
    {
     "name": "stdout",
     "output_type": "stream",
     "text": [
      "False\n"
     ]
    }
   ],
   "source": [
    "# c=[1,2,3,2,3,4,5,5,6,7,1,2,3,2,3,4,5,5,6,7]\n",
    "# d=[1,2,5,3,3,4,4,5,5,5]\n",
    "# result = True\n",
    "# for i in range(0,len(c)):\n",
    "#     if(c[i]!=d[i]):  #c[1] != d[1]\n",
    "#         result = False\n",
    "# print(result)"
   ]
  },
  {
   "cell_type": "code",
   "execution_count": 14,
   "metadata": {},
   "outputs": [],
   "source": [
    "data = '''Lorem ipsum dolor sit amet consectetur adipisicing elit. Nobis ut dignissimos aliquid sint et nam, ipsam aut quod quis optio nemo repellat aperiam possimus dicta reiciendis explicabo sed consectetur repellendus libero amet odio illo consequuntur vel eum. Accusamus pariatur cupiditate adipisci sunt corrupti recusandae ut quod explicabo reiciendis voluptate quaerat minus aperiam nisi perferendis, deserunt voluptas eius maxime dolorem quidem ducimus dignissimos magni natus unde quo? Ex rem, voluptatum fugiat eos quam laborum debitis. Impedit, corrupti! Consectetur, cumque? Dicta sapiente animi eligendi necessitatibus odit adipisci! Amet dicta vel adipisci fugit similique, temporibus minus eaque tempore harum voluptas commodi fugiat rem voluptates obcaecati expedita aliquid cumque laborum provident voluptatem eius in iure nihil incidunt. Harum ipsum accusamus aliquam earum delectus eligendi consequuntur quibusdam facilis. Suscipit, harum ex! Deserunt molestias quos velit odit neque consequuntur omnis assumenda consectetur sapiente eveniet quas, fugiat nesciunt blanditiis sed, sunt tenetur molestiae eligendi inventore. Obcaecati illo quas nisi, modi, earum nihil facere ex, possimus optio adipisci accusantium ullam officia vero? Nisi fugit quas saepe illo praesentium quibusdam ab molestias molestiae, exercitationem consequatur adipisci cumque voluptate accusamus unde! Modi reprehenderit maxime ducimus alias quae voluptate eos, necessitatibus sit incidunt perferendis saepe nam, aspernatur harum cum? Laboriosam error commodi expedita sunt reprehenderit, harum autem cumque odio quae qui recusandae quis nam aliquid praesentium omnis quod alias placeat quas nisi, possimus neque et fugit maxime est. Illo et quas asperiores commodi ratione? Ipsum, doloribus minus. Molestias, commodi obcaecati doloribus labore consectetur repellendus quis cum maxime inventore vel rem asperiores unde praesentium perferendis similique adipisci eaque minus reiciendis veniam sit soluta est repudiandae. Quod eveniet sequi atque aspernatur? Corrupti itaque quos odit ipsum temporibus pariatur rem labore repellat excepturi nobis. Asperiores fuga possimus ipsa amet sapiente in. In distinctio quia tempora asperiores. Autem porro possimus eos! Repellat voluptatum dolore sunt consequatur? Ex nulla nemo tenetur, possimus qui tempore, voluptatibus rerum voluptatum dolor expedita vel. Consequuntur reprehenderit minima est ex perspiciatis reiciendis deleniti cumque, tempore, modi maiores non eaque dolorem, sit nesciunt autem quod voluptates. Laudantium officiis provident consequatur rem nihil sint vel, ullam est eligendi nulla obcaecati eos deserunt facilis accusamus, eveniet autem odio eaque inventore! Perferendis, vero? Neque magnam saepe esse architecto dolorum, necessitatibus accusantium doloremque dignissimos, praesentium culpa vel eum, sit eos vitae sint impedit quia tempora? Maxime a sit fugit, dolore magni architecto voluptatem officiis commodi ratione perspiciatis sapiente provident nihil adipisci consequuntur vitae accusamus veritatis iusto voluptate, quo excepturi debitis! Suscipit illo saepe facere est nihil voluptas maxime labore laboriosam aperiam modi odit deleniti numquam, reprehenderit, omnis, quas sequi perspiciatis. Recusandae similique veritatis doloremque ea omnis ratione accusantium provident blanditiis odio, tempore ducimus cumque inventore, mollitia debitis quidem sunt aperiam exercitationem accusamus nam in ipsa. Quod, autem sed maxime blanditiis, explicabo molestias dicta cum, ea dolorum commodi saepe possimus incidunt ullam veritatis iusto culpa id perspiciatis ipsam. Dolor quisquam enim recusandae aut expedita iste magnam. Unde, minima, vel deserunt ex ullam odit dolorum id ipsam excepturi, iure consequuntur. Odio, in enim. Iste molestias laborum sunt perspiciatis voluptatibus tempora deleniti iure enim illum dolores, modi officia soluta consequatur delectus! Atque distinctio exercitationem voluptatum explicabo eveniet. Excepturi minus accusamus quasi odio. Vel dignissimos eum exercitationem numquam libero veniam sit dolore sint nostrum reprehenderit repellendus recusandae aut unde eos illum rem excepturi tenetur facilis sed soluta magni a, maxime doloribus eius. Non laborum totam accusamus accusantium veniam, dolorem dicta odit adipisci deleniti, quibusdam animi sequi natus nisi quis similique. Ut expedita nulla dicta necessitatibus odit aperiam sapiente voluptates dolorum odio est exercitationem delectus deserunt id, impedit eius officiis beatae perspiciatis quidem voluptate. Rem, necessitatibus expedita. Esse similique maiores alias veritatis, nulla voluptate molestiae voluptatibus sapiente doloribus quod deleniti placeat earum, sequi autem nesciunt, aut vitae natus rerum cumque. Temporibus rerum alias omnis? Ipsam veniam, molestias rerum assumenda harum sunt earum soluta exercitationem culpa nostrum fugiat cum doloremque esse officiis architecto, impedit nobis. Eaque dicta quam totam ut, sapiente, eum perspiciatis nemo tempore cupiditate tempora omnis unde voluptatem cumque molestias necessitatibus veniam recusandae explicabo facilis. Maxime possimus exercitationem aliquam maiores doloremque accusamus, esse nulla illo rem aut, sit dolores unde nihil quaerat. Delectus nam tempore fuga quo distinctio! Officia quia molestias quisquam optio a veniam voluptate doloribus? Dolorum numquam mollitia quibusdam aut, sit neque rerum obcaecati facilis doloremque nemo. At officia numquam necessitatibus quidem veniam provident dicta officiis, molestias rem amet aliquam unde, magnam quia vitae earum natus ipsam. Fugiat neque dolorum expedita nesciunt voluptate nobis, commodi nam nostrum quisquam praesentium ipsum at doloremque optio natus enim reiciendis aspernatur veritatis amet eveniet atque. Id tempora quas architecto doloribus praesentium quasi eos. Soluta consequatur ex repellendus quas eum alias odit nihil quasi laborum architecto natus ab doloremque necessitatibus reiciendis assumenda sequi quia beatae nostrum non, optio dolore, at molestiae. Molestiae, labore ut commodi dicta quas modi, aut, ad laudantium optio assumenda eligendi ipsa sint veniam recusandae temporibus facilis ex? Ea provident ullam nostrum optio, quibusdam, quam alias, iure recusandae blanditiis voluptatibus facilis exercitationem pariatur odit laudantium assumenda sit. Pariatur porro harum quaerat voluptate quia nulla voluptatum distinctio illum laboriosam quibusdam debitis voluptas, voluptates laborum quisquam assumenda recusandae corrupti molestiae? Ad possimus error amet sit in facere temporibus nisi tempora reprehenderit unde iure illum, mollitia officiis aliquam ea blanditiis! Minima iste necessitatibus sit et illo debitis quas, eligendi eveniet obcaecati veniam dicta alias asperiores eaque nemo eum, ratione est sequi ipsum quam? Maxime at quaerat iure quod deleniti officiis, error, tenetur, totam nam nihil fugiat. Magnam odit nobis, sint harum at nemo beatae iste tenetur ipsum natus? Facere qui mollitia voluptatibus soluta expedita quasi itaque quibusdam fugiat repellendus, maxime quas! Aperiam sit minus, ratione non fugiat mollitia, sequi praesentium eum iure illo quas corrupti natus provident laboriosam repellat itaque atque vero. Necessitatibus reiciendis perspiciatis, quos ex saepe labore distinctio? Sequi soluta tempora sed neque, debitis ab porro harum dolores laboriosam est possimus corporis corrupti, esse natus ex repellat excepturi autem alias perferendis ea dignissimos! Totam, ipsum error aut, odio quo cum repellat tenetur quisquam a eligendi id enim impedit, placeat suscipit necessitatibus'''\n",
    "count=dict()\n",
    "for i in data:  \n",
    "    if i in count:  \n",
    "        count[i] += 1  #   update existing key with pre_value+1 as a new value \n",
    "    else:\n",
    "        count[i] = 1   #   insert new key with value 1"
   ]
  },
  {
   "cell_type": "code",
   "execution_count": null,
   "metadata": {},
   "outputs": [],
   "source": [
    "for (key,value) in count.items():\n",
    "    print(f'key = {key} value {value}')"
   ]
  },
  {
   "cell_type": "code",
   "execution_count": null,
   "metadata": {},
   "outputs": [
    {
     "name": "stdout",
     "output_type": "stream",
     "text": [
      "10\n"
     ]
    }
   ],
   "source": [
    "age = 16\n",
    "ticket = 20 if age>=18 else 10    #ternary\n",
    "print(ticket)"
   ]
  },
  {
   "cell_type": "code",
   "execution_count": 73,
   "metadata": {},
   "outputs": [
    {
     "name": "stdout",
     "output_type": "stream",
     "text": [
      "अ\n",
      "90\n"
     ]
    }
   ],
   "source": [
    "print(chr(2309)) # gives character against number\n",
    "print(ord('Z')) # gives number against character"
   ]
  },
  {
   "cell_type": "code",
   "execution_count": null,
   "metadata": {},
   "outputs": [
    {
     "name": "stdout",
     "output_type": "stream",
     "text": [
      "{'o': 400, 'r': 325, 'e': 734, 'm': 367, 'i': 743, 'p': 217, 's': 507, 'u': 526, 'd': 235, 'l': 259, 't': 501, 'a': 565, 'c': 219, 'n': 315, 'g': 34, 'b': 85, 'q': 142, 'x': 48, 'v': 76, 'f': 50, 'h': 27}\n"
     ]
    }
   ],
   "source": [
    "d = {key:value for key,value in count.items() if ord(key)>96 }\n",
    "print(d)"
   ]
  },
  {
   "cell_type": "code",
   "execution_count": 94,
   "metadata": {},
   "outputs": [
    {
     "name": "stdout",
     "output_type": "stream",
     "text": [
      "not found\n"
     ]
    },
    {
     "data": {
      "text/plain": [
       "{'m': 367,\n",
       " 'i': 743,\n",
       " 'p': 217,\n",
       " 's': 507,\n",
       " 'u': 526,\n",
       " 'd': 235,\n",
       " 'l': 259,\n",
       " 't': 501,\n",
       " 'n': 315,\n",
       " 'g': 34,\n",
       " 'q': 142,\n",
       " 'x': 48,\n",
       " 'v': 76}"
      ]
     },
     "execution_count": 94,
     "metadata": {},
     "output_type": "execute_result"
    }
   ],
   "source": [
    "print(d.get('h','not found'))\n",
    "for i in ['e','o','r']:\n",
    "    if d.get(i,False):\n",
    "        d.pop(i)\n",
    "d"
   ]
  },
  {
   "cell_type": "markdown",
   "metadata": {},
   "source": [
    "## Function "
   ]
  },
  {
   "cell_type": "markdown",
   "metadata": {},
   "source": [
    "### User Define Function \n",
    "* with use of def and () we can create function"
   ]
  },
  {
   "cell_type": "code",
   "execution_count": null,
   "metadata": {},
   "outputs": [
    {
     "name": "stdout",
     "output_type": "stream",
     "text": [
      "4 X 1 = 4\n",
      "4 X 2 = 8\n",
      "4 X 3 = 12\n",
      "4 X 4 = 16\n",
      "4 X 5 = 20\n",
      "4 X 6 = 24\n",
      "4 X 7 = 28\n",
      "4 X 8 = 32\n",
      "4 X 9 = 36\n",
      "4 X 10 = 40\n"
     ]
    },
    {
     "data": {
      "text/plain": [
       "'end'"
      ]
     },
     "execution_count": 4,
     "metadata": {},
     "output_type": "execute_result"
    }
   ],
   "source": [
    "num=100\n",
    "def table(num:int)->str:  # here num is perameter\n",
    "    for i in range(1,11):\n",
    "        print(f'{num} X {i} = {num*i}')\n",
    "    return \"end\"\n",
    "table(num=4)"
   ]
  },
  {
   "cell_type": "code",
   "execution_count": null,
   "metadata": {},
   "outputs": [],
   "source": [
    "def <function_name> (<parameters_if_any>):\n",
    "    code Block\n",
    "    <if_return>\n",
    "\n",
    "<function_name>(<arrguments__if_any>)"
   ]
  },
  {
   "cell_type": "code",
   "execution_count": 109,
   "metadata": {},
   "outputs": [
    {
     "name": "stdout",
     "output_type": "stream",
     "text": [
      "1 X 1 = 1\n",
      "1 X 2 = 2\n",
      "1 X 3 = 3\n",
      "1 X 4 = 4\n",
      "1 X 5 = 5\n",
      "1 X 6 = 6\n",
      "1 X 7 = 7\n",
      "1 X 8 = 8\n",
      "1 X 9 = 9\n",
      "1 X 10 = 10\n",
      "None\n"
     ]
    }
   ],
   "source": [
    "print(table())   # 4 is arrgument"
   ]
  },
  {
   "cell_type": "code",
   "execution_count": null,
   "metadata": {},
   "outputs": [],
   "source": [
    "def prime_number(num):\n",
    "    result = f\"{num} is prime number\"\n",
    "    for i in range(2,num):\n",
    "        if num % i == 0 :\n",
    "            result = f\"{num} its not a prime number\"\n",
    "    return result"
   ]
  },
  {
   "cell_type": "code",
   "execution_count": 9,
   "metadata": {},
   "outputs": [
    {
     "data": {
      "text/plain": [
       "'7 is prime number'"
      ]
     },
     "execution_count": 9,
     "metadata": {},
     "output_type": "execute_result"
    }
   ],
   "source": [
    "prime_number(7)"
   ]
  },
  {
   "cell_type": "code",
   "execution_count": 25,
   "metadata": {},
   "outputs": [],
   "source": [
    "def count(num:int)->None:   #num =3\n",
    "    for i in range(num,-1,-1):# range start =3  stop = -1   step =-1     3210\n",
    "        print(i)               #   3\n",
    "        return None          # stop fnction exe\n",
    "    print(\"negative value\")\n",
    "    return None\n",
    "# print(count(0))"
   ]
  },
  {
   "cell_type": "code",
   "execution_count": 26,
   "metadata": {},
   "outputs": [
    {
     "name": "stdout",
     "output_type": "stream",
     "text": [
      "3\n",
      "None\n"
     ]
    }
   ],
   "source": [
    "print(count(3))"
   ]
  },
  {
   "cell_type": "code",
   "execution_count": 39,
   "metadata": {},
   "outputs": [],
   "source": [
    "def intro(name:str,age:int,salary:float,dept:str)->str:\n",
    "    return f'''\n",
    "My name is {name} i work in {dept} department , my salary is {salary} and age is {age}\n",
    "'''"
   ]
  },
  {
   "cell_type": "code",
   "execution_count": 38,
   "metadata": {},
   "outputs": [
    {
     "name": "stdout",
     "output_type": "stream",
     "text": [
      "\n",
      "My name is raj i work in IT department , my salary is 23429.32 and age is 22\n",
      "\n",
      "\n",
      "My name is raj i work in IT department , my salary is 23222.22 and age is 22\n",
      "\n"
     ]
    }
   ],
   "source": [
    "print(intro(\"raj\",22,23429.32,\"IT\"))#positional(sequential) arrguments\n",
    "print(intro(\"raj\",age=22,dept=\"IT\",salary=23222.22))  # key word arrguments"
   ]
  },
  {
   "cell_type": "code",
   "execution_count": 51,
   "metadata": {},
   "outputs": [
    {
     "name": "stdout",
     "output_type": "stream",
     "text": [
      "1 2 [3, 4, 5, 6, 76, 8, 9, 0] <class 'list'>\n"
     ]
    }
   ],
   "source": [
    "a,b,*c = 1,2,3,4,5,6,76,8,9,0\n",
    "print(a,b,c,type(c))"
   ]
  },
  {
   "cell_type": "code",
   "execution_count": 53,
   "metadata": {},
   "outputs": [],
   "source": [
    "def add(*a:int):  #tuple   Arbitary Arrguments\n",
    "    sum = 0\n",
    "    print(a,type(a))\n",
    "    for i in a:\n",
    "        sum+=i\n",
    "    return sum"
   ]
  },
  {
   "cell_type": "code",
   "execution_count": 54,
   "metadata": {},
   "outputs": [
    {
     "name": "stdout",
     "output_type": "stream",
     "text": [
      "(1, 2, 3, 4) <class 'tuple'>\n"
     ]
    },
    {
     "data": {
      "text/plain": [
       "10"
      ]
     },
     "execution_count": 54,
     "metadata": {},
     "output_type": "execute_result"
    }
   ],
   "source": [
    "add(1,2,3,4)"
   ]
  },
  {
   "cell_type": "code",
   "execution_count": 74,
   "metadata": {},
   "outputs": [],
   "source": [
    "def intro(**data:dict):  #dictinary    only takes kwargs\n",
    "    print(data,type(data))\n",
    "    return f'''\n",
    "My name is {data.get(\"name\")} i work in {data.get(\"dept\")} department , my salary is {data.get(\"salary\")} and age is {data.get(\"age\")}\n",
    "''' "
   ]
  },
  {
   "cell_type": "code",
   "execution_count": null,
   "metadata": {},
   "outputs": [
    {
     "name": "stdout",
     "output_type": "stream",
     "text": [
      "{'name': 'raj', 'age': 22, 'dept': 'IT', 'salary': 23222.22} <class 'dict'>\n",
      "\n",
      "My name is raj i work in IT department , my salary is 23222.22 and age is 22\n",
      "\n"
     ]
    }
   ],
   "source": [
    "# print(intro(\"raj\",22,23429.32,\"IT\"))#positional(sequential) arrguments\n",
    "print(intro(name=\"raj\",age=22,dept=\"IT\",salary=23222.22))  # key word arrguments"
   ]
  },
  {
   "cell_type": "code",
   "execution_count": null,
   "metadata": {},
   "outputs": [],
   "source": []
  },
  {
   "cell_type": "code",
   "execution_count": null,
   "metadata": {},
   "outputs": [],
   "source": [
    "d = [1,2,3,4,5]\n",
    "for i in range(0,len(d)):\n",
    "    d[i] = double(d[i])\n",
    "print(d)"
   ]
  },
  {
   "cell_type": "code",
   "execution_count": null,
   "metadata": {},
   "outputs": [
    {
     "data": {
      "text/plain": [
       "[4, 6, 8, 10, 12]"
      ]
     },
     "execution_count": 96,
     "metadata": {},
     "output_type": "execute_result"
    }
   ],
   "source": [
    "def double(val):\n",
    "    return val * 2\n",
    "list(map(double,[2,3,4,5,6]))\n"
   ]
  },
  {
   "cell_type": "code",
   "execution_count": null,
   "metadata": {},
   "outputs": [],
   "source": []
  },
  {
   "cell_type": "code",
   "execution_count": 107,
   "metadata": {},
   "outputs": [
    {
     "data": {
      "text/plain": [
       "False"
      ]
     },
     "execution_count": 107,
     "metadata": {},
     "output_type": "execute_result"
    }
   ],
   "source": [
    "check_odd(2)"
   ]
  },
  {
   "cell_type": "code",
   "execution_count": 113,
   "metadata": {},
   "outputs": [
    {
     "name": "stdout",
     "output_type": "stream",
     "text": [
      "[1, 3, 5, 7, 9]\n"
     ]
    }
   ],
   "source": [
    "def check_odd(val):\n",
    "    return val%2!=0\n",
    "d=[i for i in range(10)]     #0123456789\n",
    "copy =[]                  #  \n",
    "for i in range(0,len(d)):\n",
    "    if check_odd(d[i]):            #odd\n",
    "        copy.append(d[i])    #transfer into copy variable\n",
    "print(copy)\n"
   ]
  },
  {
   "cell_type": "code",
   "execution_count": 114,
   "metadata": {},
   "outputs": [
    {
     "data": {
      "text/plain": [
       "[1, 3, 45, 7, 9]"
      ]
     },
     "execution_count": 114,
     "metadata": {},
     "output_type": "execute_result"
    }
   ],
   "source": [
    "list(filter(check_odd,[1,2,3,4,45,6,7,8,9,10]))"
   ]
  },
  {
   "cell_type": "code",
   "execution_count": null,
   "metadata": {},
   "outputs": [],
   "source": []
  },
  {
   "cell_type": "code",
   "execution_count": null,
   "metadata": {},
   "outputs": [],
   "source": [
    "def double(num:int)->int:\n",
    "    return num * 2"
   ]
  },
  {
   "cell_type": "code",
   "execution_count": 21,
   "metadata": {},
   "outputs": [
    {
     "data": {
      "text/plain": [
       "10"
      ]
     },
     "execution_count": 21,
     "metadata": {},
     "output_type": "execute_result"
    }
   ],
   "source": [
    "t = 10 if 3>2 else 2\n",
    "t"
   ]
  },
  {
   "cell_type": "code",
   "execution_count": null,
   "metadata": {},
   "outputs": [
    {
     "name": "stdout",
     "output_type": "stream",
     "text": [
      "[2, 4, 6, 8]\n"
     ]
    }
   ],
   "source": [
    "fun = lambda x: x*2\n",
    "print(list(map( fun , [1,2,3,4])))"
   ]
  },
  {
   "cell_type": "code",
   "execution_count": null,
   "metadata": {},
   "outputs": [
    {
     "name": "stdout",
     "output_type": "stream",
     "text": [
      "hello\n"
     ]
    }
   ],
   "source": [
    "4! = 4 x 3 x 2 x 1\n",
    "4! = 4 x 3!\n",
    "num=4\n",
    "num! = num x (num-1)!\n"
   ]
  },
  {
   "cell_type": "markdown",
   "metadata": {},
   "source": [
    "## Recursive functions are functions that calls itself. It is always made up of 2 portions, the base case and the recursive case. The base case is the condition to stop the recursion. The recursive case is the part where the function calls on itself."
   ]
  },
  {
   "cell_type": "code",
   "execution_count": 52,
   "metadata": {},
   "outputs": [],
   "source": [
    "def factorial(num:int)->int:\n",
    "    if num<=1:\n",
    "        return 1\n",
    "    else:\n",
    "        return num * factorial(num-1)"
   ]
  },
  {
   "cell_type": "code",
   "execution_count": 47,
   "metadata": {},
   "outputs": [],
   "source": [
    "def countdown(num:int)->int:   \n",
    "    if num>0:\n",
    "        countdown(num-1)   \n",
    "        print(num-1)\n",
    "        \n"
   ]
  },
  {
   "cell_type": "code",
   "execution_count": 51,
   "metadata": {},
   "outputs": [
    {
     "name": "stdout",
     "output_type": "stream",
     "text": [
      "0\n",
      "1\n",
      "2\n",
      "3\n"
     ]
    }
   ],
   "source": [
    "countdown(4)"
   ]
  },
  {
   "cell_type": "markdown",
   "metadata": {},
   "source": [
    "<img src = \"https://www.sateeshm.com/images/rec2.png\">"
   ]
  },
  {
   "cell_type": "markdown",
   "metadata": {},
   "source": [
    "# Closure\n",
    "a function that has access to variables in its outer function, even after the outer function has finished executing. Closures are created when a function is defined within another function. "
   ]
  },
  {
   "cell_type": "code",
   "execution_count": 72,
   "metadata": {},
   "outputs": [],
   "source": [
    "def times(num:int):   #  2\n",
    "    return lambda val : val*num    # lambda val:val*3"
   ]
  },
  {
   "cell_type": "code",
   "execution_count": 64,
   "metadata": {},
   "outputs": [],
   "source": [
    "double = times(2)\n",
    "triple = times(3)\n",
    "four_times = times(4)"
   ]
  },
  {
   "cell_type": "code",
   "execution_count": 70,
   "metadata": {},
   "outputs": [
    {
     "name": "stdout",
     "output_type": "stream",
     "text": [
      "10\n",
      "15\n",
      "16\n"
     ]
    }
   ],
   "source": [
    "print(double(5))\n",
    "print(triple(5))\n",
    "print(four_times(4))"
   ]
  },
  {
   "cell_type": "markdown",
   "metadata": {},
   "source": [
    "## Decorators"
   ]
  },
  {
   "cell_type": "code",
   "execution_count": 71,
   "metadata": {},
   "outputs": [
    {
     "data": {
      "text/plain": [
       "[6, 12, 18]"
      ]
     },
     "execution_count": 71,
     "metadata": {},
     "output_type": "execute_result"
    }
   ],
   "source": [
    "list(map(times(6),[1,2,3]))"
   ]
  },
  {
   "cell_type": "code",
   "execution_count": null,
   "metadata": {},
   "outputs": [
    {
     "name": "stdout",
     "output_type": "stream",
     "text": [
      "1\\n2\n"
     ]
    }
   ],
   "source": [
    "print('1\\n2')"
   ]
  },
  {
   "cell_type": "code",
   "execution_count": null,
   "metadata": {},
   "outputs": [],
   "source": []
  }
 ],
 "metadata": {
  "kernelspec": {
   "display_name": "Python 3",
   "language": "python",
   "name": "python3"
  },
  "language_info": {
   "codemirror_mode": {
    "name": "ipython",
    "version": 3
   },
   "file_extension": ".py",
   "mimetype": "text/x-python",
   "name": "python",
   "nbconvert_exporter": "python",
   "pygments_lexer": "ipython3",
   "version": "3.13.2"
  }
 },
 "nbformat": 4,
 "nbformat_minor": 2
}
