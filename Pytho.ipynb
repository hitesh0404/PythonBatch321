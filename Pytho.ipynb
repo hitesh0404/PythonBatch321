{
 "cells": [
  {
   "cell_type": "markdown",
   "metadata": {},
   "source": [
    "<h1>hello</h1>\n",
    "<img src = \"data:image/jpeg;base64,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\">"
   ]
  },
  {
   "cell_type": "code",
   "execution_count": 14,
   "metadata": {},
   "outputs": [
    {
     "name": "stdout",
     "output_type": "stream",
     "text": [
      "hello world hello world hello world \n"
     ]
    }
   ],
   "source": [
    "print(\"hello world \"*3)"
   ]
  },
  {
   "cell_type": "markdown",
   "metadata": {},
   "source": [
    "# variable\n",
    "<pre>\n",
    "Variable is a container \n",
    "name should start with _ or alpha\n",
    "with the help of type funtion we can get the type of value"
   ]
  },
  {
   "cell_type": "code",
   "execution_count": 35,
   "metadata": {},
   "outputs": [
    {
     "name": "stdout",
     "output_type": "stream",
     "text": [
      "12.32\n",
      "12 12.32 12\n",
      "<class 'str'> <class 'int'> <class 'float'>\n"
     ]
    }
   ],
   "source": [
    "a_2 = '12.32'\n",
    "b = 12\n",
    "c = 12.1\n",
    "\n",
    "print(a_2)\n",
    "print(b,a_2,b)\n",
    "print(type(a_2),type(b),type(c))"
   ]
  },
  {
   "cell_type": "markdown",
   "metadata": {},
   "source": [
    "# = sign \n",
    "* = is used to assign value from right to the left\n",
    "* also called as assignment symbol"
   ]
  },
  {
   "cell_type": "markdown",
   "metadata": {},
   "source": [
    "\n",
    "# Swap the value of two variables"
   ]
  },
  {
   "cell_type": "code",
   "execution_count": 42,
   "metadata": {},
   "outputs": [
    {
     "name": "stdout",
     "output_type": "stream",
     "text": [
      "10 20\n",
      "20 10\n"
     ]
    }
   ],
   "source": [
    "a=10\n",
    "b=20\n",
    "print(a,b)\n",
    "c=a\n",
    "a=b\n",
    "b=c\n",
    "print(a,b)"
   ]
  },
  {
   "cell_type": "code",
   "execution_count": 43,
   "metadata": {},
   "outputs": [
    {
     "name": "stdout",
     "output_type": "stream",
     "text": [
      "10 20\n",
      "20 10\n"
     ]
    }
   ],
   "source": [
    "a=10\n",
    "b=20\n",
    "print(a,b)\n",
    "a,b = b,a\n",
    "print(a,b)"
   ]
  },
  {
   "cell_type": "code",
   "execution_count": 46,
   "metadata": {},
   "outputs": [
    {
     "name": "stdout",
     "output_type": "stream",
     "text": [
      "10.34 20.65\n",
      "20.65 10.34\n"
     ]
    }
   ],
   "source": [
    "a=10.34\n",
    "b=20.65\n",
    "print(a,b)\n",
    "a = a+b # 10+20 = 30\n",
    "b = a-b # 30-20 = 10\n",
    "a = a-b # 30-10 = 20\n",
    "print(a,b)"
   ]
  },
  {
   "cell_type": "markdown",
   "metadata": {},
   "source": [
    "# Operators"
   ]
  },
  {
   "cell_type": "markdown",
   "metadata": {},
   "source": [
    "## Assignment\n",
    "### =\n",
    "## Arth\n",
    "### + - * / %\n",
    "With Str datatype we can two arthm operator +(concat) *(Repeat)"
   ]
  },
  {
   "cell_type": "code",
   "execution_count": 58,
   "metadata": {},
   "outputs": [
    {
     "data": {
      "text/plain": [
       "'abc hello abc hello abc hello '"
      ]
     },
     "execution_count": 58,
     "metadata": {},
     "output_type": "execute_result"
    }
   ],
   "source": [
    "('abc '+'hello ')*3"
   ]
  },
  {
   "cell_type": "markdown",
   "metadata": {},
   "source": [
    "### Comparison  operators \n",
    "<pre>\n",
    "== is equals\n",
    "!= not equals\n",
    "> greater then\n",
    "< less then\n",
    ">= greater then and equals \n",
    "<=  less then and equals"
   ]
  },
  {
   "cell_type": "code",
   "execution_count": 62,
   "metadata": {},
   "outputs": [
    {
     "data": {
      "text/plain": [
       "False"
      ]
     },
     "execution_count": 62,
     "metadata": {},
     "output_type": "execute_result"
    }
   ],
   "source": [
    "10!=10"
   ]
  },
  {
   "cell_type": "code",
   "execution_count": 61,
   "metadata": {},
   "outputs": [
    {
     "data": {
      "text/plain": [
       "False"
      ]
     },
     "execution_count": 61,
     "metadata": {},
     "output_type": "execute_result"
    }
   ],
   "source": [
    "10==20"
   ]
  },
  {
   "cell_type": "markdown",
   "metadata": {},
   "source": [
    "# Logical Operators\n",
    "### and \n",
    "### or\n",
    "### not\n",
    "<pre>\n",
    "false values   False None 0 '' {}[] tuple()(empty non premitive datatype)\n",
    "truth values   12 ' ' 'abc' "
   ]
  },
  {
   "cell_type": "markdown",
   "metadata": {},
   "source": [
    "<pre>\n",
    "and,or,not these are logical operator\n",
    "&,|,! these are bitwise operator"
   ]
  },
  {
   "cell_type": "code",
   "execution_count": 53,
   "metadata": {},
   "outputs": [
    {
     "name": "stdout",
     "output_type": "stream",
     "text": [
      "hello world\n",
      "new text bye bye \n",
      "hello here it's \"HP\"\n",
      "      \n",
      "      here are some more lines\n",
      "      \n",
      "       \n",
      "hello here it's \"HP\" \n"
     ]
    }
   ],
   "source": [
    "print(\"hello world\",\"new text \",sep='\\n',end=\"bye bye \\n\")\n",
    "print('''\n",
    "      hello here it's \"HP\"\n",
    "      \n",
    "      here are some more lines\n",
    "      \n",
    "       ''')\n",
    "print(\"\"\"\n",
    "      \n",
    "      \n",
    "      hello here it's \"HP\" \n",
    "      \n",
    "      \n",
    "      \"\"\")"
   ]
  },
  {
   "cell_type": "markdown",
   "metadata": {},
   "source": [
    "# Comments\n",
    "\n",
    "* python support only single line comment with # symbol\n",
    "* But we can achive multiline comment in python \n",
    "with the help of Doc String\n",
    "* every String in python is ignored by the interpreter which is \n",
    "not assigned to any variable or not utilised by the any function as arrgument\n",
    "\n"
   ]
  },
  {
   "cell_type": "code",
   "execution_count": 1,
   "metadata": {},
   "outputs": [
    {
     "name": "stdout",
     "output_type": "stream",
     "text": [
      "hello\n",
      "\n"
     ]
    }
   ],
   "source": [
    "print(\"hello\")  \n",
    "\"helo its single line\"\n",
    "\"\"\" \n",
    "hello this is comment\n",
    "#here one more line\n",
    "#here one more line\n",
    "#here one more line\n",
    "#here one more line\n",
    "#here one more line \n",
    "# \"\"\"\n",
    "print()"
   ]
  },
  {
   "cell_type": "code",
   "execution_count": 3,
   "metadata": {},
   "outputs": [
    {
     "data": {
      "text/plain": [
       "NoneType"
      ]
     },
     "execution_count": 3,
     "metadata": {},
     "output_type": "execute_result"
    }
   ],
   "source": [
    "type(None)"
   ]
  },
  {
   "cell_type": "markdown",
   "metadata": {},
   "source": [
    "# Data Types\n",
    "* Premitive DataTypes\n",
    "  <pre>\n",
    "  these datatypes holds single value \n",
    "  int\n",
    "  float\n",
    "  bool\n",
    "  None\n",
    "  complex\n",
    "* Non-Premitive DataTypes\n",
    "  <pre>\n",
    "  these datatypes can hold multiple value(more then one)\n",
    "    str\n",
    "    list\n",
    "    tuple\n",
    "    dictionary\n",
    "    set\n",
    "    Object\n",
    "     \n"
   ]
  },
  {
   "cell_type": "markdown",
   "metadata": {},
   "source": [
    "## Type Casting\n",
    "* converting or transforming one datatype to another is call Type casting or Type conversion\n",
    "* example:\n",
    "<pre>\n",
    "    int(\"123\")\n",
    "    float(\"123.2\")\n",
    "    str(12)\n",
    "    bool(12)\n",
    "    "
   ]
  },
  {
   "cell_type": "code",
   "execution_count": 1,
   "metadata": {},
   "outputs": [
    {
     "data": {
      "text/plain": [
       "46"
      ]
     },
     "execution_count": 1,
     "metadata": {},
     "output_type": "execute_result"
    }
   ],
   "source": [
    "int('12' )+ int( '34')"
   ]
  },
  {
   "cell_type": "markdown",
   "metadata": {},
   "source": [
    "# String\n",
    "## String Index\n",
    "<pre>\n",
    "H e l l o   w o r l d\n",
    "0 1 2 3 4 5 6 7 8 9 10    <- index position are valid for sequence datatype \n",
    "                                eg.            String,List,Tuple\n",
    "1 2 3 4 5 6 7 8 9 10 11   <- length is 11"
   ]
  },
  {
   "cell_type": "markdown",
   "metadata": {},
   "source": []
  },
  {
   "cell_type": "code",
   "execution_count": null,
   "metadata": {},
   "outputs": [
    {
     "name": "stdout",
     "output_type": "stream",
     "text": [
      "w\n",
      "d\n"
     ]
    }
   ],
   "source": [
    "print('hello world'[6])\n",
    "a = \"hello world\"\n",
    "print(a[10])"
   ]
  },
  {
   "cell_type": "markdown",
   "metadata": {},
   "source": [
    "# Slicing \n",
    "<pre>\n",
    "[ Start  :    Stop     :   Step ]\n",
    "\n",
    "\n",
    "H e l l o   w o r l d\n",
    "0 1 2 3 4 5 6 7 8 9 10\n",
    "\n",
    "a[6:11:2]\n"
   ]
  },
  {
   "cell_type": "code",
   "execution_count": 13,
   "metadata": {},
   "outputs": [
    {
     "data": {
      "text/plain": [
       "'hello World'"
      ]
     },
     "execution_count": 13,
     "metadata": {},
     "output_type": "execute_result"
    }
   ],
   "source": [
    "\"hello \"  \"World\""
   ]
  },
  {
   "cell_type": "code",
   "execution_count": 48,
   "metadata": {},
   "outputs": [
    {
     "data": {
      "text/plain": [
       "'stu'"
      ]
     },
     "execution_count": 48,
     "metadata": {},
     "output_type": "execute_result"
    }
   ],
   "source": [
    "a='0123456789abcdefghijklmnopqrstuvwxyz'\n",
    "                        #      87654321\n",
    "# a[-1:-11:-1]\n",
    "# a[::1]   #[0:10:1]\n",
    "# a[::-1] #[-1:-11:-1]\n",
    "a[-8:-5:1]"
   ]
  },
  {
   "cell_type": "code",
   "execution_count": null,
   "metadata": {},
   "outputs": [
    {
     "name": "stdout",
     "output_type": "stream",
     "text": [
      "02468\n",
      "13579\n",
      "86420\n",
      "97531\n",
      "86420\n",
      "97531\n"
     ]
    }
   ],
   "source": [
    "a= '0123456789'\n",
    "print(a[::2])\n",
    "print(a[1::2])\n",
    "print(a[::2][::-1])\n",
    "print(a[1::2][::-1])\n",
    "print(a[-2:-11:-2])\n",
    "print(a[-1:-11:-2])"
   ]
  },
  {
   "cell_type": "markdown",
   "metadata": {},
   "source": [
    "# String Methods"
   ]
  },
  {
   "cell_type": "markdown",
   "metadata": {},
   "source": [
    "<pre>\n",
    "split"
   ]
  },
  {
   "cell_type": "code",
   "execution_count": null,
   "metadata": {},
   "outputs": [
    {
     "name": "stdout",
     "output_type": "stream",
     "text": [
      "7.0 12.0 9.0 13.0\n"
     ]
    }
   ],
   "source": [
    "a,b,c,d = map(float,input(\"enter 4 number with space\").split())\n",
    "'7 12 9 13'\n",
    "#['7','12','9','13']\n",
    "#float([0])  float('7') -> 7.0 \n",
    "#float([1])  float('12') -> 12.0 \n",
    "#float([2])  float('9') -> 9.0 \n",
    "#float([3])  float('13') -> 13.0 \n",
    "print(a,b,c,d)"
   ]
  },
  {
   "cell_type": "code",
   "execution_count": null,
   "metadata": {},
   "outputs": [
    {
     "name": "stdout",
     "output_type": "stream",
     "text": [
      "72\n",
      "104\n",
      "A\n",
      "a\n"
     ]
    }
   ],
   "source": [
    "print(ord(\"H\"))#char->number\n",
    "print(ord(\"h\"))\n",
    "print(chr(65))#number->char\n",
    "print(chr(97))\n"
   ]
  },
  {
   "cell_type": "code",
   "execution_count": 37,
   "metadata": {},
   "outputs": [
    {
     "name": "stdout",
     "output_type": "stream",
     "text": [
      "---------------------------Hello----------------------------\n",
      "-1\n",
      "0\n",
      "1--2--3\n",
      "4\n"
     ]
    }
   ],
   "source": [
    "\"python\".replace('p','j')\n",
    "print(\"Hello\".center(60,'-'))\n",
    "print(\"hello\".find('w'))\n",
    "print(\"hello\".index(\"h\"))\n",
    "print(\"--\".join(['1','2','3']))\n",
    "print(\" hellohello\".count('l'))\n"
   ]
  },
  {
   "cell_type": "markdown",
   "metadata": {},
   "source": [
    "#"
   ]
  },
  {
   "cell_type": "markdown",
   "metadata": {},
   "source": [
    "# Formating String\n",
    "* .format()\n",
    "* f''\n"
   ]
  },
  {
   "cell_type": "code",
   "execution_count": 51,
   "metadata": {},
   "outputs": [
    {
     "name": "stdout",
     "output_type": "stream",
     "text": [
      "1010 200\n",
      "hello a =  1010 and the b =  200 end of string\n",
      "hello a = 1010 and the b = 200 end of string\n",
      "hello a = 1010 and the b = 200 end of string\n"
     ]
    }
   ],
   "source": [
    "a=1010\n",
    "b=200\n",
    "print(a,b)\n",
    "print(\"hello a = \",a,'and the b = ',b,'end of string')\n",
    "print(f'hello a = {a} and the b = {b} end of string')\n",
    "print('hello a = {} and the b = {} end of string'.format(a,b))\n"
   ]
  },
  {
   "cell_type": "markdown",
   "metadata": {},
   "source": [
    "### raw String"
   ]
  },
  {
   "cell_type": "code",
   "execution_count": 71,
   "metadata": {},
   "outputs": [
    {
     "name": "stdout",
     "output_type": "stream",
     "text": [
      "C:\\Users\\admin\\Java\\Java_Project\\Java_Project\\src\\ecom\n",
      "C:\\Users\\admin\\Java\\Java_Project\\Java_Project\\src\\ecom\n"
     ]
    }
   ],
   "source": [
    "print(\"C:\\\\Users\\\\admin\\\\Java\\\\Java_Project\\\\Java_Project\\\\src\\\\ecom\")\n",
    "print(r'C:\\Users\\admin\\Java\\Java_Project\\Java_Project\\src\\ecom')\n",
    "# print(\"c:\\ns\")"
   ]
  },
  {
   "cell_type": "markdown",
   "metadata": {},
   "source": [
    "##### Complex"
   ]
  },
  {
   "cell_type": "code",
   "execution_count": 77,
   "metadata": {},
   "outputs": [
    {
     "name": "stdout",
     "output_type": "stream",
     "text": [
      "(25+3j)\n",
      "(123+5j)\n"
     ]
    }
   ],
   "source": [
    "print(12+1j + 13+2j)\n",
    "print(complex(123,5))\n"
   ]
  },
  {
   "cell_type": "markdown",
   "metadata": {},
   "source": [
    "##### float"
   ]
  },
  {
   "cell_type": "code",
   "execution_count": 91,
   "metadata": {},
   "outputs": [
    {
     "data": {
      "text/plain": [
       "0.30000000000000004"
      ]
     },
     "execution_count": 91,
     "metadata": {},
     "output_type": "execute_result"
    }
   ],
   "source": [
    "0.1 + 0.2"
   ]
  },
  {
   "cell_type": "code",
   "execution_count": 103,
   "metadata": {},
   "outputs": [
    {
     "name": "stdout",
     "output_type": "stream",
     "text": [
      "0.3000\n",
      "1010 0.3000\n"
     ]
    }
   ],
   "source": [
    "print('{:.4f}'.format(0.1 + 0.2))\n",
    "b=(0.1 + 0.2)\n",
    "print(\"%d %.4f\"%(a,b))"
   ]
  },
  {
   "cell_type": "markdown",
   "metadata": {},
   "source": [
    "# Decision Making Statements\n",
    "# Condition Statement\n",
    "# If - Else Statement"
   ]
  },
  {
   "cell_type": "code",
   "execution_count": 1,
   "metadata": {},
   "outputs": [
    {
     "name": "stdout",
     "output_type": "stream",
     "text": [
      "hello greet msg\n",
      "get back to work \n"
     ]
    }
   ],
   "source": [
    "num = int(input(\"enter 1 for msg\"))\n",
    "if num<1: # 5 False\n",
    "    print(\"hello greet msg\")\n",
    "else:\n",
    "    print(\"go back\")\n",
    "if num>1:\n",
    "    print(\"good morning\")\n",
    "else:\n",
    "    print(\"get back to work \")"
   ]
  },
  {
   "cell_type": "code",
   "execution_count": null,
   "metadata": {},
   "outputs": [
    {
     "name": "stdout",
     "output_type": "stream",
     "text": [
      "12 is even\n"
     ]
    }
   ],
   "source": [
    "num=int(input(\"enter num to check odd and even\"))\n",
    "if num%2==1:   #  1  0        12%2 = 0 -> even      7%2 = 1->odd\n",
    "    print(f\"{num} is odd\")\n",
    "else:\n",
    "    print(f\"{num} is even\")"
   ]
  },
  {
   "cell_type": "code",
   "execution_count": 10,
   "metadata": {},
   "outputs": [
    {
     "name": "stdout",
     "output_type": "stream",
     "text": [
      "30 is greater then 20\n"
     ]
    }
   ],
   "source": [
    "a=30\n",
    "b=20\n",
    "if a>b:\n",
    "    print(f'{a} is greater then {b}')\n",
    "else:\n",
    "    print(f'{b} is greater then {a}')\n"
   ]
  },
  {
   "cell_type": "code",
   "execution_count": null,
   "metadata": {},
   "outputs": [
    {
     "name": "stdout",
     "output_type": "stream",
     "text": [
      "20 is max in given (100, 20, 30)\n",
      "20 is min in given (100, 20, 30)\n",
      "100 is max in given (100, 20, 30)\n",
      "20 is min in given (100, 20, 30)\n"
     ]
    }
   ],
   "source": [
    "a = 100\n",
    "b = 20\n",
    "c = 30\n",
    "if a>b and a>c:\n",
    "    print(f'{a} is max in given {a,b,c}')\n",
    "elif b>c:\n",
    "    print(f'{c} is max in given {a,b,c}')\n",
    "else:\n",
    "    print(f'{b} is max in given {a,b,c}')\n",
    "\n",
    "if a<b and a<c:\n",
    "    print(f'{a} is min in given {a,b,c}')\n",
    "elif b<c:\n",
    "    print(f'{b} is min in given {a,b,c}')\n",
    "else:\n",
    "    print(f'{c} is min in given {a,b,c}')\n",
    "\n",
    "\n",
    "if a>b and a>c:\n",
    "    print(f'{a} is max in given {a,b,c}')\n",
    "    if b<c:\n",
    "        print(f'{b} is min in given {a,b,c}')\n",
    "    else:\n",
    "        print(f'{c} is min in given {a,b,c}')\n",
    "elif b>c:\n",
    "    print(f'{b} is max in given {a,b,c}')\n",
    "    if c<a:\n",
    "        print(f'{c} is min in given {a,b,c}')\n",
    "    else:\n",
    "        print(f'{a} is min in given {a,b,c}')\n",
    "else:\n",
    "    print(f'{c} is max in given {a,b,c}')\n",
    "    if b<a:\n",
    "        print(f'{b} is min in given {a,b,c}')\n",
    "    else:\n",
    "        print(f'{a} is min in given {a,b,c}')\n",
    "\n"
   ]
  },
  {
   "cell_type": "code",
   "execution_count": null,
   "metadata": {},
   "outputs": [],
   "source": [
    "#Leap year\n",
    "#1800->"
   ]
  },
  {
   "cell_type": "code",
   "execution_count": 29,
   "metadata": {},
   "outputs": [
    {
     "name": "stdout",
     "output_type": "stream",
     "text": [
      "1600 is leap year\n"
     ]
    }
   ],
   "source": [
    "#divisible by 4 then should not be divi by 100           4 and !100\n",
    "#divisible by 400                                        400\n",
    "year = 1600\n",
    "if (year%4==0 and year%100!=0) or (year%400==0):\n",
    "    print(f\"{year} is leap year\")\n",
    "else:\n",
    "    print(f\"{year} is not a leap year\")\n"
   ]
  },
  {
   "cell_type": "code",
   "execution_count": null,
   "metadata": {},
   "outputs": [],
   "source": []
  },
  {
   "cell_type": "code",
   "execution_count": 10,
   "metadata": {},
   "outputs": [
    {
     "name": "stdout",
     "output_type": "stream",
     "text": [
      "46\n"
     ]
    }
   ],
   "source": [
    "a = int(input(\"enter the number for a\"))\n",
    "b = int(input(\"enter the number for b\"))\n",
    "print(a+b)"
   ]
  },
  {
   "cell_type": "code",
   "execution_count": null,
   "metadata": {},
   "outputs": [
    {
     "name": "stdout",
     "output_type": "stream",
     "text": [
      "2 is of type integer\n"
     ]
    }
   ],
   "source": [
    "a=2\n",
    "if type(a) == int :\n",
    "    print(f\"{a} is of type integer\")\n",
    "elif type(a) == str :\n",
    "    print(f\"{a} is of type String\")\n",
    "elif type(a) == float :\n",
    "    print(f\"{a} is of type float\")\n",
    "else:\n",
    "    print(\"a is not int or float or a string\")"
   ]
  },
  {
   "cell_type": "code",
   "execution_count": null,
   "metadata": {},
   "outputs": [],
   "source": []
  },
  {
   "cell_type": "code",
   "execution_count": 2,
   "metadata": {},
   "outputs": [
    {
     "name": "stdout",
     "output_type": "stream",
     "text": [
      "negative number -10\n",
      "hello\n"
     ]
    }
   ],
   "source": [
    "num = -10\n",
    "if num>0:\n",
    "    print(\"positive number\",num)\n",
    "else:\n",
    "    print(\"negative number\",num)\n",
    "print(\"hello\")"
   ]
  },
  {
   "cell_type": "code",
   "execution_count": null,
   "metadata": {},
   "outputs": [],
   "source": []
  }
 ],
 "metadata": {
  "kernelspec": {
   "display_name": "Python 3",
   "language": "python",
   "name": "python3"
  },
  "language_info": {
   "codemirror_mode": {
    "name": "ipython",
    "version": 3
   },
   "file_extension": ".py",
   "mimetype": "text/x-python",
   "name": "python",
   "nbconvert_exporter": "python",
   "pygments_lexer": "ipython3",
   "version": "3.13.2"
  }
 },
 "nbformat": 4,
 "nbformat_minor": 2
}
