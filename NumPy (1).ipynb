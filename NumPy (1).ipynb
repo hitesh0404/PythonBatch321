{
 "cells": [
  {
   "cell_type": "markdown",
   "id": "cf9273d2",
   "metadata": {},
   "source": [
    "<img src=\"https://res.cloudinary.com/practicaldev/image/fetch/s--oTgfo1EL--/c_limit%2Cf_auto%2Cfl_progressive%2Cq_auto%2Cw_880/https://raw.githubusercontent.com/adhiraiyan/DeepLearningWithTF2.0/master/notebooks/figures/fig0201a.png\">"
   ]
  },
  {
   "cell_type": "code",
   "execution_count": 1,
   "id": "053bcc40",
   "metadata": {},
   "outputs": [
    {
     "data": {
      "text/plain": [
       "' import numpy as np \\n\"\"\"\\n\\none dimention array is called as vector and\\n dimention are called as axes\\n\"\"\"\\n\\n#a=np.array()\\n\\na.ndim\\na.itemsize\\na.size\\na.shape\\na.nbytes\\n\\na.dtype #a = np.array([1, 2, 3], dtype=np.float64)\\n\\n\\t#arr = np.array([1, 2, 3, 4], dtype=\\'S\\')\\n\"\"\"\\n\\ni - integer\\nb - boolean\\nu - unsigned integer\\nf - float\\nc - complex float\\nm - timedelta\\nM - datetime\\nO - object\\nS - string\\nU - unicode string\\nV - fixed chunk of memory for other type ( void )\\n\\n\"\"\"\\n\\n\\n\\n\\n# numpy zeros\\n\\na = np.zeros((2, 3),dtype=np.int32) # by default the dtype is float64\\nprint(a)\\n \\n# numpy ones\\n\\na = np.ones((2, 3, 2))\\n\\n\"\"\"\\n\\nc - complex float\\nm - timedelta\\nM - datetime\\nO - object\\nS - string\\nU - unicode string\\nV - fixed chunk of memory for other type ( void )\\n\\n\"\"\"\\n\\n\\n#two dimention Array we pass a list of a list of integers to the array() function.\\n\\t#A two-dimensional array is also called a matrix.\\nb = np.array(\\n    [\\n        [1, 2, 3],\\n        [4, 5, 6]\\n    ]\\n)\\n\\n\\n\\n\\n#three dimention #Note that a 3-D array is also called a tensor.\\n\\n\\nc = np.array(\\n    [\\n        [\\n            [1, 2, 3],\\n            [4, 5, 6]\\n        ],\\n        [\\n            [7, 8, 9],\\n            [10, 11, 12]\\n        ],\\n    ]\\n)\\n\\n\\n\\n\\n\"\"\"\\nTo find the number of axes and the number of elements\\n on each axis of an array, you use the shape property. For example:\\na.ndim\\na.shape\\n\\nThe shape property returns a tuple\\n\\nThe numpy arange() function creates a new numpy array with\\n evenly spaced numbers between start (inclusive) and stop (exclusive)\\n with a given step:\\n\"\"\"\\n \\na = np.arange(1, 10, 2, dtype=np.float64)\\n#c[1,3]\\nc[1:2:3,:]'"
      ]
     },
     "execution_count": 1,
     "metadata": {},
     "output_type": "execute_result"
    }
   ],
   "source": [
    "''' import numpy as np \n",
    "\"\"\"\n",
    "\n",
    "one dimention array is called as vector and\n",
    " dimention are called as axes\n",
    "\"\"\"\n",
    "\n",
    "#a=np.array()\n",
    "\n",
    "a.ndim\n",
    "a.itemsize\n",
    "a.size\n",
    "a.shape\n",
    "a.nbytes\n",
    "\n",
    "a.dtype #a = np.array([1, 2, 3], dtype=np.float64)\n",
    "\n",
    "\t#arr = np.array([1, 2, 3, 4], dtype='S')\n",
    "\"\"\"\n",
    "\n",
    "i - integer\n",
    "b - boolean\n",
    "u - unsigned integer\n",
    "f - float\n",
    "c - complex float\n",
    "m - timedelta\n",
    "M - datetime\n",
    "O - object\n",
    "S - string\n",
    "U - unicode string\n",
    "V - fixed chunk of memory for other type ( void )\n",
    "\n",
    "\"\"\"\n",
    "\n",
    "\n",
    "\n",
    "\n",
    "# numpy zeros\n",
    "\n",
    "a = np.zeros((2, 3),dtype=np.int32) # by default the dtype is float64\n",
    "print(a)\n",
    " \n",
    "# numpy ones\n",
    "\n",
    "a = np.ones((2, 3, 2))\n",
    "\n",
    "\"\"\"\n",
    "\n",
    "c - complex float\n",
    "m - timedelta\n",
    "M - datetime\n",
    "O - object\n",
    "S - string\n",
    "U - unicode string\n",
    "V - fixed chunk of memory for other type ( void )\n",
    "\n",
    "\"\"\"\n",
    "\n",
    "\n",
    "#two dimention Array we pass a list of a list of integers to the array() function.\n",
    "\t#A two-dimensional array is also called a matrix.\n",
    "b = np.array(\n",
    "    [\n",
    "        [1, 2, 3],\n",
    "        [4, 5, 6]\n",
    "    ]\n",
    ")\n",
    "\n",
    "\n",
    "\n",
    "\n",
    "#three dimention #Note that a 3-D array is also called a tensor.\n",
    "\n",
    "\n",
    "c = np.array(\n",
    "    [\n",
    "        [\n",
    "            [1, 2, 3],\n",
    "            [4, 5, 6]\n",
    "        ],\n",
    "        [\n",
    "            [7, 8, 9],\n",
    "            [10, 11, 12]\n",
    "        ],\n",
    "    ]\n",
    ")\n",
    "\n",
    "\n",
    "\n",
    "\n",
    "\"\"\"\n",
    "To find the number of axes and the number of elements\n",
    " on each axis of an array, you use the shape property. For example:\n",
    "a.ndim\n",
    "a.shape\n",
    "\n",
    "The shape property returns a tuple\n",
    "\n",
    "The numpy arange() function creates a new numpy array with\n",
    " evenly spaced numbers between start (inclusive) and stop (exclusive)\n",
    " with a given step:\n",
    "\"\"\"\n",
    " \n",
    "a = np.arange(1, 10, 2, dtype=np.float64)\n",
    "#c[1,3]\n",
    "c[1:2:3,:]'''\n"
   ]
  },
  {
   "cell_type": "code",
   "execution_count": 7,
   "id": "942c6a56",
   "metadata": {},
   "outputs": [],
   "source": [
    "import numpy as np\n"
   ]
  },
  {
   "cell_type": "code",
   "execution_count": 8,
   "id": "4a1e0eb3",
   "metadata": {},
   "outputs": [
    {
     "data": {
      "text/plain": [
       "(2, 2, 2, 4)"
      ]
     },
     "execution_count": 8,
     "metadata": {},
     "output_type": "execute_result"
    }
   ],
   "source": [
    "a = np.ones((2, 3, 2,4))\n",
    "a=np.array([[[[1.0, 1.0, 1.0, 1.0],\n",
    "   [1.0 ,10.0 ,1.0, 1.0]],\n",
    "   [[1.0, 1.0, 1.0, 1.0],\n",
    "   [1.0 ,10.0 ,1.0, 1.0]]],\n",
    "   [[[1.0, 1.0, 1.0, 1.0],\n",
    "   [1.0 ,10.0 ,1.0, 1.0]],\n",
    "   [[1.0, 1.0, 1.0, 1.0],\n",
    "   [1.0 ,10.0 ,1.0, 1.0]]]])\n",
    "\n",
    " \n",
    "a.ndim\n",
    "a.shape"
   ]
  },
  {
   "cell_type": "code",
   "execution_count": 9,
   "id": "06f88db5-eb3e-4b1f-ba4a-412ebc6c4c74",
   "metadata": {},
   "outputs": [],
   "source": [
    "import numpy as np\n",
    "a=np.array(['1',2,3])"
   ]
  },
  {
   "cell_type": "code",
   "execution_count": 10,
   "id": "0d0cde8d",
   "metadata": {},
   "outputs": [
    {
     "data": {
      "text/plain": [
       "dtype('<U11')"
      ]
     },
     "execution_count": 10,
     "metadata": {},
     "output_type": "execute_result"
    }
   ],
   "source": [
    "a.dtype"
   ]
  },
  {
   "cell_type": "code",
   "execution_count": 24,
   "id": "127b9daf-3131-45b9-9b1b-464e0e9cafce",
   "metadata": {},
   "outputs": [],
   "source": [
    "a=np.arange(1,10,0.1)#start stop step"
   ]
  },
  {
   "cell_type": "code",
   "execution_count": 29,
   "id": "956ad34e",
   "metadata": {},
   "outputs": [
    {
     "data": {
      "text/plain": [
       "array([[[[1. , 1.1, 1.2, 1.3, 1.4],\n",
       "         [1.5, 1.6, 1.7, 1.8, 1.9],\n",
       "         [2. , 2.1, 2.2, 2.3, 2.4]],\n",
       "\n",
       "        [[2.5, 2.6, 2.7, 2.8, 2.9],\n",
       "         [3. , 3.1, 3.2, 3.3, 3.4],\n",
       "         [3.5, 3.6, 3.7, 3.8, 3.9]]],\n",
       "\n",
       "\n",
       "       [[[4. , 4.1, 4.2, 4.3, 4.4],\n",
       "         [4.5, 4.6, 4.7, 4.8, 4.9],\n",
       "         [5. , 5.1, 5.2, 5.3, 5.4]],\n",
       "\n",
       "        [[5.5, 5.6, 5.7, 5.8, 5.9],\n",
       "         [6. , 6.1, 6.2, 6.3, 6.4],\n",
       "         [6.5, 6.6, 6.7, 6.8, 6.9]]],\n",
       "\n",
       "\n",
       "       [[[7. , 7.1, 7.2, 7.3, 7.4],\n",
       "         [7.5, 7.6, 7.7, 7.8, 7.9],\n",
       "         [8. , 8.1, 8.2, 8.3, 8.4]],\n",
       "\n",
       "        [[8.5, 8.6, 8.7, 8.8, 8.9],\n",
       "         [9. , 9.1, 9.2, 9.3, 9.4],\n",
       "         [9.5, 9.6, 9.7, 9.8, 9.9]]]])"
      ]
     },
     "execution_count": 29,
     "metadata": {},
     "output_type": "execute_result"
    }
   ],
   "source": [
    "a.reshape(3,2,3,5)"
   ]
  },
  {
   "cell_type": "code",
   "execution_count": 38,
   "id": "4c821b81",
   "metadata": {},
   "outputs": [],
   "source": [
    "a = np.linspace(1,1.1, 8)#start stop n-number of element"
   ]
  },
  {
   "cell_type": "code",
   "execution_count": 39,
   "id": "a866d76b",
   "metadata": {},
   "outputs": [
    {
     "data": {
      "text/plain": [
       "array([1.        , 1.01428571, 1.02857143, 1.04285714, 1.05714286,\n",
       "       1.07142857, 1.08571429, 1.1       ])"
      ]
     },
     "execution_count": 39,
     "metadata": {},
     "output_type": "execute_result"
    }
   ],
   "source": [
    "a"
   ]
  },
  {
   "cell_type": "code",
   "execution_count": 41,
   "id": "afeb5c9c",
   "metadata": {},
   "outputs": [
    {
     "data": {
      "text/plain": [
       "numpy.ndarray"
      ]
     },
     "execution_count": 41,
     "metadata": {},
     "output_type": "execute_result"
    }
   ],
   "source": [
    "a.ndim;a.shape;a.nbytes;a.size\n",
    "type(a)"
   ]
  },
  {
   "cell_type": "code",
   "execution_count": 57,
   "id": "181dac47",
   "metadata": {},
   "outputs": [
    {
     "name": "stdout",
     "output_type": "stream",
     "text": [
      "[ 6  7  8  9 10 11 12]\n"
     ]
    },
    {
     "data": {
      "text/plain": [
       "(array([1, 1, 1, 2, 2, 2, 2], dtype=int64),\n",
       " array([1, 2, 3, 0, 1, 2, 3], dtype=int64))"
      ]
     },
     "execution_count": 57,
     "metadata": {},
     "output_type": "execute_result"
    }
   ],
   "source": [
    "a = np.array([[1 , 2, 3, 4], [5, 6, 7, 8], [9, 10, 11, 12]])\n",
    "a>5#bool\n",
    "five_up = (a[a > 5])#values\n",
    "print(five_up)\n",
    "np.nonzero(a>5)#position"
   ]
  },
  {
   "cell_type": "code",
   "execution_count": 10,
   "id": "ae39df12",
   "metadata": {},
   "outputs": [
    {
     "name": "stdout",
     "output_type": "stream",
     "text": [
      "[ 2  4  6  8 10 12]\n"
     ]
    }
   ],
   "source": [
    "divisible_by_2 = a[a%2==0]\n",
    "print(divisible_by_2)"
   ]
  },
  {
   "cell_type": "code",
   "execution_count": 43,
   "id": "b25854c3",
   "metadata": {},
   "outputs": [],
   "source": [
    "if 11>2 and 3<2:\n",
    "    print('hello')"
   ]
  },
  {
   "cell_type": "code",
   "execution_count": 11,
   "id": "3c564016",
   "metadata": {},
   "outputs": [
    {
     "name": "stdout",
     "output_type": "stream",
     "text": [
      "[ 3  4  5  6  7  8  9 10]\n"
     ]
    }
   ],
   "source": [
    "c = a[(a > 2) & (a < 11)]\n",
    "print(c)"
   ]
  },
  {
   "cell_type": "code",
   "execution_count": 12,
   "id": "6cddc2c6",
   "metadata": {},
   "outputs": [
    {
     "name": "stdout",
     "output_type": "stream",
     "text": [
      "[[False False False False]\n",
      " [ True  True  True  True]\n",
      " [ True  True  True  True]]\n"
     ]
    }
   ],
   "source": [
    "five_up = (a > 5) | (a == 5)\n",
    "print(five_up)"
   ]
  },
  {
   "cell_type": "code",
   "execution_count": 54,
   "id": "6cafe774",
   "metadata": {},
   "outputs": [
    {
     "data": {
      "text/plain": [
       "array([[ 1,  2,  3,  4],\n",
       "       [ 5,  6,  7,  8],\n",
       "       [ 9, 10,  0, 12]])"
      ]
     },
     "execution_count": 54,
     "metadata": {},
     "output_type": "execute_result"
    }
   ],
   "source": [
    "a"
   ]
  },
  {
   "cell_type": "code",
   "execution_count": 53,
   "id": "adb61238",
   "metadata": {},
   "outputs": [
    {
     "name": "stdout",
     "output_type": "stream",
     "text": [
      "(array([2], dtype=int64), array([1], dtype=int64))\n"
     ]
    }
   ],
   "source": [
    "b = np.nonzero(a ==10) ##search element with some condition\n",
    "print(b) "
   ]
  },
  {
   "cell_type": "code",
   "execution_count": 14,
   "id": "9cb2f401",
   "metadata": {},
   "outputs": [
    {
     "name": "stdout",
     "output_type": "stream",
     "text": [
      "(array([0, 1, 2, 3, 4], dtype=int64), array([0, 1, 2, 3, 4], dtype=int64))\n"
     ]
    }
   ],
   "source": [
    "e=np.eye(5)\n",
    "f = np.nonzero(e == 1)\n",
    "print(f)"
   ]
  },
  {
   "cell_type": "code",
   "execution_count": 15,
   "id": "d3acc403",
   "metadata": {},
   "outputs": [
    {
     "name": "stdout",
     "output_type": "stream",
     "text": [
      "(array([1, 1, 1, 2, 2, 2, 2], dtype=int64), array([1, 2, 3, 0, 1, 2, 3], dtype=int64))\n",
      "(0, 1, 1)\n",
      "(1, 1, 2)\n",
      "(2, 1, 3)\n",
      "(3, 2, 0)\n",
      "(4, 2, 1)\n"
     ]
    }
   ],
   "source": [
    "b = np.nonzero(a > 5) ##search element with some condition\n",
    "print(b) \n",
    "list_of_coordinates= zip(f[0],b[0], b[1])\n",
    "for coord in list_of_coordinates:\n",
    "    print(coord)"
   ]
  },
  {
   "cell_type": "markdown",
   "id": "ffa5a512",
   "metadata": {},
   "source": [
    "<img src=\"numpy-array-indexing-2d-array.svg\">"
   ]
  },
  {
   "cell_type": "code",
   "execution_count": 68,
   "id": "fab0921f",
   "metadata": {},
   "outputs": [
    {
     "name": "stdout",
     "output_type": "stream",
     "text": [
      "[[ 1  2  3  4]\n",
      " [ 5  6  7  8]\n",
      " [ 9 10 11 12]]\n",
      "10\n"
     ]
    }
   ],
   "source": [
    "print(a)\n",
    "print(np.max(a[:,1]))"
   ]
  },
  {
   "cell_type": "markdown",
   "id": "b05c8359",
   "metadata": {},
   "source": [
    "<img src=\"numpy-array-indexing-3d-array.svg\">"
   ]
  },
  {
   "cell_type": "code",
   "execution_count": null,
   "id": "9ac9b1b9",
   "metadata": {},
   "outputs": [],
   "source": []
  }
 ],
 "metadata": {
  "kernelspec": {
   "display_name": "Python 3 (ipykernel)",
   "language": "python",
   "name": "python3"
  },
  "language_info": {
   "codemirror_mode": {
    "name": "ipython",
    "version": 3
   },
   "file_extension": ".py",
   "mimetype": "text/x-python",
   "name": "python",
   "nbconvert_exporter": "python",
   "pygments_lexer": "ipython3",
   "version": "3.12.2"
  }
 },
 "nbformat": 4,
 "nbformat_minor": 5
}
